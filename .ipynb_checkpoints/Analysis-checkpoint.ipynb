{
 "cells": [
  {
   "cell_type": "markdown",
   "metadata": {},
   "source": [
    "# Spherical Stratified Atmosphere\n",
    "This page explains how to transform the stratified atmosphere test problem (originally given in cylindrical and rectangular coordinates) into a spherical setup. The following test problems are good references for spherical geometry:\n",
    "- HD/Disk_Planet\n",
    "    - Configs 3,4,5\n",
    "- HD/Sedov\n",
    "    - Config 3\n",
    "- HD/Sod\n",
    "\n",
    "# Pluto INI\n",
    "## Grid Setup\n",
    "We will use Disk_Planet as our primary reference for configuring the grid. Page 18 of the PLUTO user guide tells us that the solver's convention for spherical coordinates is X1 = radius, X2 = altitude, and X3 = azimuth. Thus, Disk_Planet's grid analyzes a 3D slice of the atmosphere which varies between a radius of 0.4 and 2.5, goes completely around the sphere in terms of azimuth, but which is highly confined in terms of elevation.\n",
    "\n",
    "We will increase the elevation so that it spans a range of $\\pm 80^\\circ$, so that we cover the sphere reasonably well while avoiding the computational difficulties near the poles. We will now look at how this is done.\n",
    "\n",
    "The following are the lower bound, upper bound, and resolution for the elevation coordinate, provided for Disk_Planet.\n",
    "\n",
    "$$\n",
    "X2_l = 1.448623279 \\\\\n",
    "X2_u = 1.570796327 \\\\\n",
    "X2_{res} = 16\n",
    "$$\n",
    "\n",
    "We will assume that 16 cells is a good number for a grid of this size. In this case, the width of a single cell is: \n",
    "\n",
    "$$\n",
    "W = \\frac{X2_u - X2_l}{X2_{res}} = 7.64 \\times 10^{-3}\n",
    "$$\n",
    "\n",
    "Given this cell width, we will need $N$ cells to cover a elevation range $\\Delta L$ (in degrees), where $N$ is defined below.\n",
    "\n",
    "\\begin{equation}\n",
    "N = \\frac{\\pi}{180} \\frac{\\Delta L}{W}\n",
    "\\end{equation}\n",
    "\n",
    "For $\\Delta$L = 160$^\\circ$ (i.e. 10 degrees away from the poles), $N$ = 366 and our bounding coordinates are $\\pi/2 \\pm\\Delta L \\frac{\\pi}{180} = \\pi/2 \\pm1.396263402$ (we add $\\pi/2$ because the angle is relative to the cartesian z-axis instead of the xy-plane).\n",
    "\n",
    "Since we do not require fine computation to validate this setup, let us decrease the resolution along the radial, latitudinal, and longitudinal coordinate by 5, 10, and 10, respectively. Additionally, let us use the same azimuthal grid as Disk_Planet. For the radial grid, we will make a uniform grid from 0.01 to 1 with 20 points, and another uniform grid from 1 to 1.2 with 10 points. Our grid is now as follows:\n",
    "\n",
    "```\n",
    "X1-grid    2    0.01         20 u 1.0            10 u 1.2\n",
    "X2-grid    1    0.1745329248 37 u 2.967059729\n",
    "X3-grid    1    0.0          40 u 6.283185307\n",
    "```\n",
    "\n",
    "This will reduce the number of points from about 18 million to under $40,000$, which will give us a faster turnaround time (< 5 min).\n",
    "\n",
    "## Time Setup\n",
    "I changed CFL to 0.25 because I assumed that since this is what Disk_Planet is using, it will result in better solutions for spherical geometries. I also set tstop to 10.0 (1 did not seem like enough and 50 seemed like too much since the size our grid now contains so many cells).\n",
    "\n",
    "## Solver Setup\n",
    "I changed the solver to hllc for the same reason I set CFL to 0.25.\n",
    "\n",
    "## Boundary Conditions\n",
    "Next, we need to set up the boundary conditions. To stick with the physical situation of the stratified atmosphere, we will use the same boundary conditions for the radial coordinate in our spherical geometry that were using for the radial coordinate in the cylindrical geometry (after all, gravity was indeed given as a piecewise function partitioned based on the spherical radius in the original cylindrical setup). We will also need to modify the implementation for the body force functions as per page 56 of the PLUTO user guide, so that we have the correct physics for the spherical geometry case (more on this later).\n",
    "\n",
    "For the azimuthal boundary condition, we will stick with periodic for the start and end, which is what Disk_Planet used.\n",
    "For the latitudinal boundary condition, we will go with reflective for the start and end. We could also try outflow for latitudinal and see what happens. My understanding is reflective will cause the fluid to “bounce back” when it reaches the end of the computational domain, and outflow will cause any flow leaving the computational domain to re-enter at another inlet.\n",
    "\n",
    "# Definitions.h\n",
    "The key parameters are as follows:\n",
    "```C\n",
    "#define  PHYSICS                 HD\n",
    "#define  DIMENSIONS              3\n",
    "#define  COMPONENTS              3\n",
    "#define  GEOMETRY                SPHERICAL\n",
    "#define  BODY_FORCE              VECTOR\n",
    "#define  COOLING                 NO\n",
    "#define  RECONSTRUCTION          LINEAR\n",
    "#define  TIME_STEPPING           RK2\n",
    "#define  DIMENSIONAL_SPLITTING   NO\n",
    "#define  NTRACER                 0\n",
    "#define  USER_DEF_PARAMETERS     1\n",
    "```\n",
    "Note that we now have 3 dimensions and components. This allows our grid to vary in all 3 of X1, X2, and X3.\n",
    "\n",
    "# Init.c\n",
    "Because the latitudinal (X2) boundary condition is no longer user-defined, we will modify ```UserDefBoundary``` so that the user-defined boundary used before is not compiled in the spherical setup.\n",
    "\n",
    "```C\n",
    "void UserDefBoundary (const Data *d, RBox *box, int side, Grid *grid) \n",
    "{\n",
    "...\n",
    "    #if GEOMETRY != SPHERICAL\n",
    "    X2_END_LOOP(k,j,i){\n",
    "      #if GEOMETRY == CARTESIAN\n",
    "       rs = sqrt(x1[i]*x1[i] + x2[j]*x2[j] + x3[k]*x3[k]);\n",
    "      #elif GEOMETRY == CYLINDRICAL\n",
    "       rs = sqrt(x1[i]*x1[i] + x2[j]*x2[j]);\n",
    "      #elif GEOMETRY == SPHERICAL\n",
    "       rs = sqrt(x1[i]*x1[i]);\n",
    "      #endif\n",
    "      d->Vc[RHO][k][j][i] = exp(g_inputParam[ALPHA]*(1.0/rs - 1.0));\n",
    "      EXPAND(d->Vc[VX1][k][j][i] = 0.0;   ,\n",
    "             d->Vc[VX2][k][j][i] = 0.0;   ,\n",
    "             d->Vc[VX3][k][j][i] = 0.0;)\n",
    "      d->Vc[PRS][k][j][i] = exp(g_inputParam[ALPHA]*(1.0/rs - 1.0))/g_inputParam[ALPHA];\n",
    "    }\n",
    "    #endif\n",
    "...\n",
    "}\n",
    "```\n",
    "\n",
    "\n",
    "\n",
    "We will also modify ```BodyForceVector``` so that we compute the spherical radius in the spherical case:\n",
    "\n",
    "```C\n",
    "void BodyForceVector(double *v, double *g, double x1, double x2, double x3)\n",
    "{\n",
    "  double gs, rs;\n",
    "  double acf, bcf, ccf;\n",
    "\n",
    "  acf = -3.0;\n",
    "  bcf =  2.0;\n",
    "  ccf =  0.0;\n",
    "  #if GEOMETRY == CARTESIAN\n",
    "   rs = sqrt(x1*x1 + x2*x2 + x3*x3);\n",
    "  #elif GEOMETRY == CYLINDRICAL\n",
    "   rs = sqrt(x1*x1 + x2*x2);\n",
    "  #elif GEOMETRY == SPHERICAL // <--- Added this\n",
    "   rs = sqrt(x1*x1);          // <--- Added this\n",
    "  #endif\n",
    "\n",
    "  if (rs > 1.0) gs = -1.0/rs/rs;\n",
    "  else          gs = rs*(acf + rs*(bcf + rs*ccf));\n",
    "\n",
    "  #if GEOMETRY == CARTESIAN\n",
    "   g[IDIR] = gs*x1/rs;\n",
    "   g[JDIR] = gs*x2/rs;\n",
    "   g[KDIR] = gs*x3/rs;\n",
    "  #elif GEOMETRY == CYLINDRICAL\n",
    "   g[IDIR] = gs*x1/rs;\n",
    "   g[JDIR] = gs*x2/rs;\n",
    "   g[KDIR] = 0.0;\n",
    "  #elif GEOMETRY == SPHERICAL\n",
    "   g[IDIR] = gs;\n",
    "   g[JDIR] = 0.0;\n",
    "   g[KDIR] = 0.0;\n",
    "  #endif\n",
    "}\n",
    "```\n",
    "\n",
    "Finally, we update ```BodyForcePotential``` for the same reason as the last time.\n",
    "\n",
    "```C\n",
    "double BodyForcePotential(double x1, double x2, double x3)\n",
    "{\n",
    "  double rs, phi;\n",
    "  double acf, bcf, ccf, C;\n",
    "\n",
    "  acf = -3.0;\n",
    "  bcf =  2.0;\n",
    "  ccf =  0.0;\n",
    "\n",
    "  #if GEOMETRY == CARTESIAN\n",
    "   rs = sqrt(x1*x1 + x2*x2 + x3*x3);\n",
    "  #elif GEOMETRY == CYLINDRICAL\n",
    "   rs = sqrt(x1*x1 + x2*x2);\n",
    "  #elif GEOMETRY == SPHERICAL // <--- Added this\n",
    "   rs = sqrt(x1*x1);          // <--- Added this\n",
    "  #endif\n",
    "\n",
    "  C = (0.5*acf + bcf/3.0 + ccf*0.25);  /* integration constant to make phi continuous */\n",
    "  if (rs > 1.0) phi = -1.0/rs;\n",
    "  else          phi = -rs*rs*(0.5*acf + rs*(bcf/3.0 + rs*ccf*0.25)) + C - 1.0;\n",
    "\n",
    "  return phi;\n",
    "}\n",
    "```"
   ]
  },
  {
   "cell_type": "markdown",
   "metadata": {},
   "source": [
    "# Analysis of Results"
   ]
  },
  {
   "cell_type": "code",
   "execution_count": 1,
   "metadata": {},
   "outputs": [],
   "source": [
    "%matplotlib inline\n",
    "\n",
    "import os\n",
    "import sys\n",
    "import numpy as np\n",
    "\n",
    "import matplotlib\n",
    "#matplotlib.use('agg')\n",
    "\n",
    "import matplotlib.pyplot as plt\n",
    "from mpl_toolkits.mplot3d import Axes3D\n",
    "import pyPLUTO as pp\n",
    "\n",
    "from __future__ import print_function"
   ]
  },
  {
   "cell_type": "markdown",
   "metadata": {},
   "source": [
    "## Loading Data\n",
    "Make sure ```path_to_script```, below, is set to the location where this script is running"
   ]
  },
  {
   "cell_type": "code",
   "execution_count": 2,
   "metadata": {},
   "outputs": [
    {
     "ename": "NameError",
     "evalue": "name 'wdir' is not defined",
     "output_type": "error",
     "traceback": [
      "\u001b[1;31m---------------------------------------------------------------------------\u001b[0m",
      "\u001b[1;31mNameError\u001b[0m                                 Traceback (most recent call last)",
      "\u001b[1;32m<ipython-input-2-0bf165e07fba>\u001b[0m in \u001b[0;36m<module>\u001b[1;34m()\u001b[0m\n\u001b[0;32m      1\u001b[0m \u001b[0mpath_to_script\u001b[0m \u001b[1;33m=\u001b[0m \u001b[0mos\u001b[0m\u001b[1;33m.\u001b[0m\u001b[0mpath\u001b[0m\u001b[1;33m.\u001b[0m\u001b[0mjoin\u001b[0m\u001b[1;33m(\u001b[0m\u001b[0mos\u001b[0m\u001b[1;33m.\u001b[0m\u001b[0menviron\u001b[0m\u001b[1;33m[\u001b[0m\u001b[1;34m'PLUTO_DIR'\u001b[0m\u001b[1;33m]\u001b[0m\u001b[1;33m,\u001b[0m \u001b[1;34m'Work\\\\'\u001b[0m\u001b[1;33m)\u001b[0m\u001b[1;33m\u001b[0m\u001b[0m\n\u001b[0;32m      2\u001b[0m \u001b[0mw_dir\u001b[0m \u001b[1;33m=\u001b[0m \u001b[0mos\u001b[0m\u001b[1;33m.\u001b[0m\u001b[0mpath\u001b[0m\u001b[1;33m.\u001b[0m\u001b[0mjoin\u001b[0m\u001b[1;33m(\u001b[0m\u001b[0mpath_to_script\u001b[0m\u001b[1;33m,\u001b[0m \u001b[1;34m\"data\"\u001b[0m\u001b[1;33m)\u001b[0m\u001b[1;33m\u001b[0m\u001b[0m\n\u001b[1;32m----> 3\u001b[1;33m \u001b[1;32mprint\u001b[0m\u001b[1;33m(\u001b[0m\u001b[1;34m\"Loading data from\"\u001b[0m\u001b[1;33m,\u001b[0m \u001b[0mwdir\u001b[0m\u001b[1;33m)\u001b[0m\u001b[1;33m\u001b[0m\u001b[0m\n\u001b[0m\u001b[0;32m      4\u001b[0m \u001b[1;33m\u001b[0m\u001b[0m\n\u001b[0;32m      5\u001b[0m \u001b[0mdata_dirs\u001b[0m \u001b[1;33m=\u001b[0m \u001b[1;33m[\u001b[0m\u001b[0mdirectory\u001b[0m \u001b[1;32mfor\u001b[0m \u001b[0mdirectory\u001b[0m \u001b[1;32min\u001b[0m \u001b[0mos\u001b[0m\u001b[1;33m.\u001b[0m\u001b[0mlistdir\u001b[0m\u001b[1;33m(\u001b[0m\u001b[0mos\u001b[0m\u001b[1;33m.\u001b[0m\u001b[0mpath\u001b[0m\u001b[1;33m.\u001b[0m\u001b[0mjoin\u001b[0m\u001b[1;33m(\u001b[0m\u001b[0mw_dir\u001b[0m\u001b[1;33m)\u001b[0m\u001b[1;33m)\u001b[0m \u001b[1;32mif\u001b[0m \u001b[1;34m\".\"\u001b[0m \u001b[1;32mnot\u001b[0m \u001b[1;32min\u001b[0m \u001b[0mdirectory\u001b[0m\u001b[1;33m]\u001b[0m\u001b[1;33m\u001b[0m\u001b[0m\n",
      "\u001b[1;31mNameError\u001b[0m: name 'wdir' is not defined"
     ]
    }
   ],
   "source": [
    "path_to_script = os.path.join(os.environ['PLUTO_DIR'], 'Work\\\\')\n",
    "w_dir = os.path.join(path_to_script, \"data\")\n",
    "print(\"Loading data from\", w_dir)\n",
    "\n",
    "data_dirs = [directory for directory in os.listdir(os.path.join(w_dir)) if \".\" not in directory]\n",
    "print(\"Found data directories: \")\n",
    "i = 0\n",
    "for dir in data_dirs:\n",
    "    print(\"\\t{0}: {1}\".format(i, dir))\n",
    "    i = i + 1"
   ]
  },
  {
   "cell_type": "markdown",
   "metadata": {},
   "source": [
    "Next, we may have a choice between different data sets to load. These have been enumerated above. To change the data set, change the value of `set_idx`, below to one of the other indices."
   ]
  },
  {
   "cell_type": "code",
   "execution_count": null,
   "metadata": {},
   "outputs": [],
   "source": [
    "set_idx = 8\n",
    "wdir = os.path.join(w_dir, data_dirs[set_idx] + os.sep)\n",
    "print(\"Using working directory\", wdir)"
   ]
  },
  {
   "cell_type": "markdown",
   "metadata": {},
   "source": [
    "Next, we use pyPLUTO to load the data in ```wdir``` into a ```pload``` object. ```dh[n]``` is the data handle for data.```n```.dbl."
   ]
  },
  {
   "cell_type": "code",
   "execution_count": null,
   "metadata": {},
   "outputs": [],
   "source": [
    "n_frames = len([file for file in os.listdir(wdir) if \"data\" in file and \".dbl\" in file])\n",
    "dh = list() # List of data handles\n",
    "for i in range(n_frames):\n",
    "    d = pp.pload(i, w_dir = wdir)\n",
    "    dh.append(d)"
   ]
  },
  {
   "cell_type": "markdown",
   "metadata": {},
   "source": [
    "## 2D Plots\n",
    "We now define a function to help us with plotting, and also perform some one-time plot configurations."
   ]
  },
  {
   "cell_type": "code",
   "execution_count": null,
   "metadata": {
    "scrolled": true
   },
   "outputs": [],
   "source": [
    "# TODO(Tyler): instead of simply passing in True or False, we should be able to specify\n",
    "# the desired elevation angle, or azimuthal angle and then choose the closest value\n",
    "# that we have on the grid\n",
    "def plot_density_mesh(data, const_elevation=False, const_azimuth=False, log=False, first_only=False):\n",
    "    '''\n",
    "    Plots the density on a radius vs elevation plane, or radius vs azimuth\n",
    "    plane.\n",
    "    \n",
    "    Parameters\n",
    "    ----------\n",
    "    data : list of pyPLUTO.pload\n",
    "        List of data frames\n",
    "    const_elevation : bool\n",
    "        If True, plots the density as a function of radius and elevation\n",
    "        Exclusive to const_azimuth\n",
    "    const_azimuth : double\n",
    "        If True, plots the density as a function of radius and azimuth\n",
    "        Exclusive to const_elevation\n",
    "    log : bool\n",
    "        (Optional) Plots the logarithm of the density (base 10)\n",
    "    first_only : bool\n",
    "        (Optional) Causes only the first frame to be plotted\n",
    "    '''\n",
    "    \n",
    "    if const_elevation == False and const_azimuth == False:\n",
    "        const_elevation = True\n",
    "    \n",
    "    # Sanity check on inputs\n",
    "    assert(const_elevation != True or const_azimuth != True), \"EITHER the azimuth or elevation may be specified, not both\"\n",
    "    \n",
    "    nframes = 1 if first_only else len(data)\n",
    "    nrows   = 1 if first_only else np.round(np.sqrt(nframes))\n",
    "    ncols   = 1 if first_only else np.round((nframes - nrows) / 2)\n",
    "    for idx in range(nframes):\n",
    "        if const_azimuth:\n",
    "            annotations = ['Log10 Density (time: ' + str(data[idx].SimTime) + ')', 'X1 (radius)', 'X2 (elevation)']\n",
    "            coord2 = (180 / np.pi) * (data[idx].x2 - np.mean(data[idx].x2))\n",
    "            qty =  data[idx].rho[:,:,0].T\n",
    "        else: # elif const_elevation:\n",
    "            annotations = ['Log10 Density (time: ' + str(dh[idx].SimTime) + ')', 'X1 (radius)', 'X3 (azimuth)']\n",
    "            coord2 = (180 / np.pi) * data[idx].x3\n",
    "            qty = data[idx].rho[:,0,:].T\n",
    "        \n",
    "        if log:\n",
    "            qty = np.log10(qty)\n",
    "        \n",
    "        plt.subplot(nrows, ncols, idx + 1)\n",
    "        plt.pcolormesh(data[idx].x1, coord2, qty, vmin=np.floor(np.min(qty)), vmax=np.ceil(np.max(qty)))\n",
    "        plt.colorbar()\n",
    "        plt.title(annotations[0])\n",
    "        plt.xlabel(annotations[1])\n",
    "        plt.ylabel(annotations[2])\n",
    "\n",
    "\n",
    "def save_plt(fname, w_dir=wdir):\n",
    "    '''\n",
    "    Saves plots to the working directory\n",
    "    \n",
    "    Parameters\n",
    "    ----------\n",
    "    fname : str\n",
    "        The name to be given to the image file\n",
    "    wdir : str\n",
    "        (Optional) The location where the file is to be saved\n",
    "    '''\n",
    "    plt.savefig(os.path.join(w_dir, fname) + '.png')\n",
    "\n",
    "\n",
    "# Inches\n",
    "width = 20\n",
    "height = 15\n",
    "\n",
    "# One-time plot configuration\n",
    "plt.rcParams['figure.figsize'] = [width, height]\n",
    "plt.tight_layout()\n",
    "plt.subplots_adjust(hspace=0.5)"
   ]
  },
  {
   "cell_type": "markdown",
   "metadata": {},
   "source": [
    "We now fix the azimuth, and plot how the density varies with radius and elevation. The code below will either plot this relationship for only the first time snapshot, or for all time snapshots depending on whether `only_plot_first_frame`, below, is `True` or `False`."
   ]
  },
  {
   "cell_type": "code",
   "execution_count": null,
   "metadata": {},
   "outputs": [],
   "source": [
    "fig = plt.figure()\n",
    "\n",
    "only_plot_first_frame = False # Make this False to plot for all time frames\n",
    "\n",
    "plot_density_mesh(dh, const_azimuth=True, log=True, first_only=only_plot_first_frame)\n",
    "save_plt('rho_vs_rad_vs_lat')"
   ]
  },
  {
   "cell_type": "markdown",
   "metadata": {},
   "source": [
    "When we plot all the frames, we can see that the density is fairly constant with time along these 2 coordinates. Also, we observe that along a circle with fixed radius, the density is constant as the elevation is varied (i.e. in the plots above, vertical lines of density are constant)."
   ]
  },
  {
   "cell_type": "markdown",
   "metadata": {},
   "source": [
    "Now we fix the elevation, and plot how the density varies with radius and azimuth. The code below will either plot this relationship for only the first time snapshot, or for all time snapshots depending on whether `only_plot_first_frame`, below, is `True` or `False`."
   ]
  },
  {
   "cell_type": "code",
   "execution_count": null,
   "metadata": {
    "scrolled": false
   },
   "outputs": [],
   "source": [
    "fig = plt.figure()\n",
    "\n",
    "only_plot_first_frame = False # Make this False to plot for all time frames\n",
    "plot_density_mesh(dh, const_elevation=True, log=True, first_only=only_plot_first_frame)\n",
    "save_plt('rho_vs_rad_vs_lon')"
   ]
  },
  {
   "cell_type": "markdown",
   "metadata": {},
   "source": [
    "We observe that concentric circles centred on the equatorial plane have constant density for a fixed radius. This confirms that the atmosphere is stratified."
   ]
  },
  {
   "cell_type": "markdown",
   "metadata": {},
   "source": [
    "## Radial Density Profile\n",
    "Here we will plot how the density varies with radius, when the elevation and azimuth are fixed. We will define this as a general-purpose function so that we can reuse it."
   ]
  },
  {
   "cell_type": "code",
   "execution_count": null,
   "metadata": {},
   "outputs": [],
   "source": [
    "def subplot_radius_vs_density_2d(data, theta, phi, log=False, first_only=False):\n",
    "    '''\n",
    "    Plots density profiles as a function of the radius for fixed theta and phi, for\n",
    "    all time steps.\n",
    "    \n",
    "    Parameters\n",
    "    ----------\n",
    "    data : list of pyPLUTO.pload\n",
    "        List of data frames\n",
    "    theta : double\n",
    "        The desired elevation angle (spherical coordinates)\n",
    "    phi : double\n",
    "        The desired azimuthal angle\n",
    "    log : bool\n",
    "        (Optional) Plots the logarithm of the density (base 10)\n",
    "    first_only : bool\n",
    "        (Optional) Causes only the first frame to be plotted\n",
    "        \n",
    "    Note that the values specified for theta and/or phi may not exist on the grid since\n",
    "    it is discrete. The closest value will be used in such cases.\n",
    "    '''\n",
    "    \n",
    "    theta_idx = (np.abs(dh[0].x2 - theta * np.pi / 180)).argmin()\n",
    "    phi_idx = (np.abs(dh[0].x3 - phi * np.pi / 180)).argmin()\n",
    "    \n",
    "    nframes = 1 if first_only else len(data)\n",
    "    nrows   = 1 if first_only else np.round(np.sqrt(nframes))\n",
    "    ncols   = 1 if first_only else np.round((nframes - nrows) / 2)\n",
    "    for idx in range(nframes):\n",
    "        plt.subplot(nrows, ncols, idx + 1)\n",
    "        qty = np.log10(dh[idx].rho[:, theta_idx, phi_idx])\n",
    "        plt.scatter(dh[idx].x1, qty)\n",
    "        plt.title('Time: ' + str(dh[idx].SimTime) +\n",
    "                  ' (theta = ' + str(np.round(dh[idx].x2[theta_idx] * 180 / np.pi, decimals=1)) +\n",
    "                  ', phi = ' + str(np.round(dh[idx].x3[phi_idx] * 180 / np.pi, decimals=1)) + ')'\n",
    "        )\n",
    "        plt.xlabel('X1 (radius)')\n",
    "        plt.ylabel('Log 10 Density')"
   ]
  },
  {
   "cell_type": "markdown",
   "metadata": {},
   "source": [
    "### North Pole"
   ]
  },
  {
   "cell_type": "code",
   "execution_count": null,
   "metadata": {},
   "outputs": [],
   "source": [
    "subplot_radius_vs_density_2d(dh, 0, 0, first_only=False);\n",
    "save_plt('rho_vs_rad_north_pole_profile')"
   ]
  },
  {
   "cell_type": "markdown",
   "metadata": {},
   "source": [
    "### Equator"
   ]
  },
  {
   "cell_type": "code",
   "execution_count": null,
   "metadata": {},
   "outputs": [],
   "source": [
    "subplot_radius_vs_density_2d(dh, 90, 0, first_only=False);\n",
    "save_plt('rho_vs_rad_equator_profile')"
   ]
  },
  {
   "cell_type": "markdown",
   "metadata": {},
   "source": [
    "### South Pole"
   ]
  },
  {
   "cell_type": "code",
   "execution_count": null,
   "metadata": {},
   "outputs": [],
   "source": [
    "subplot_radius_vs_density_2d(dh, 180, 0, first_only=False);\n",
    "save_plt('rho_vs_rad_south_pole_profile')"
   ]
  },
  {
   "cell_type": "markdown",
   "metadata": {},
   "source": [
    "## Profile for 3 Different Alphas\n",
    "$\\alpha$ in pluto.ini is related to the speed of sound and thus it affects density distribution"
   ]
  },
  {
   "cell_type": "code",
   "execution_count": null,
   "metadata": {},
   "outputs": [],
   "source": [
    "path_to_script = os.path.join(os.environ['PLUTO_DIR'], 'Work\\\\')\n",
    "wdir = os.path.join(path_to_script, \"data\")\n",
    "\n",
    "data_dirs = [directory for directory in os.listdir(os.path.join(wdir)) if \".\" not in directory]\n",
    "print(data_dirs)\n",
    "# 2: res_20u10u_36_40             <--- Alpha=10\n",
    "# 3: res_20u10u_36_40_alpha31p3   <--- Alpha=31.3\n",
    "# 4: res_20u10u_36_40_alpha3p13   <--- Alpha=3.13\n",
    "# 5: res_26_37_40\n",
    "# 6: res_26_74_80\n",
    "\n",
    "d10   = pp.pload(0, w_dir=os.path.join(wdir, data_dirs[2] + os.sep))\n",
    "d31p3 = pp.pload(0, w_dir=os.path.join(wdir, data_dirs[3] + os.sep))\n",
    "d3p13 = pp.pload(0, w_dir=os.path.join(wdir, data_dirs[4] + os.sep))\n",
    "\n",
    "theta = 90\n",
    "phi = 0\n",
    "theta_idx = (np.abs(d10.x2 - theta * np.pi / 180)).argmin()\n",
    "phi_idx = (np.abs(d10.x3 - phi * np.pi / 180)).argmin()\n",
    "\n",
    "fig = plt.figure(figsize=(10,10))\n",
    "plt.subplot(111)\n",
    "\n",
    "colors = ['b', 'c', 'y', 'm', 'r']\n",
    "\n",
    "qty = np.log10(d10.rho[:, theta_idx, phi_idx])\n",
    "a10 = plt.scatter(d10.x1, qty, marker='o', color=colors[0])\n",
    "\n",
    "qty = np.log10(d31p3.rho[:, theta_idx, phi_idx])\n",
    "a31p3 = plt.scatter(d31p3.x1, qty, marker='o', color=colors[1])\n",
    "\n",
    "qty = np.log10(d3p13.rho[:, theta_idx, phi_idx])\n",
    "a3p13 = plt.scatter(d3p13.x1, qty, marker='o', color=colors[2])\n",
    "\n",
    "plt.legend((a10, a31p3, a3p13),\n",
    "           ('alpha=10', 'alpha=31.3', 'alpha=3.13'),\n",
    "           scatterpoints=1,\n",
    "           loc='lower left',\n",
    "           ncol=3,\n",
    "           fontsize=8)\n",
    "\n",
    "plt.title('Time: ' + str(d10.SimTime) +\n",
    "          ' (theta = ' + str(np.round(d10.x2[theta_idx] * 180 / np.pi, decimals=1)) +\n",
    "          ', phi = ' + str(np.round(d10.x3[phi_idx] * 180 / np.pi, decimals=1)) + ')'\n",
    ")\n",
    "plt.xlabel('X1 (radius)')\n",
    "plt.ylabel('Log 10 Density')\n",
    "\n",
    "\n",
    "save_plt('rho_vs_rad_equator_profile_3_alphas')"
   ]
  },
  {
   "cell_type": "markdown",
   "metadata": {},
   "source": [
    "## 3D Plots\n",
    "First we will define some functions to help us with plotting in 3D. The scatter plots only work nicely with cartesian coordinates so we will have to convert from spherical."
   ]
  },
  {
   "cell_type": "code",
   "execution_count": null,
   "metadata": {},
   "outputs": [],
   "source": [
    "def sph2cart(r, theta, phi):\n",
    "    '''\n",
    "    Converts the inputted spherical coordinates to cartesian coordinates\n",
    "    \n",
    "    Parameters\n",
    "    ----------\n",
    "    r : double\n",
    "        The radius\n",
    "    theta : double\n",
    "        The altitude\n",
    "    phi : double\n",
    "        The azimuth\n",
    "    '''\n",
    "    x = r * np.sin(theta) * np.cos(phi)\n",
    "    y = r * np.sin(theta) * np.sin(phi)\n",
    "    z = r * np.cos(theta)\n",
    "    return x, y, z\n",
    "\n",
    "\n",
    "def pltSphData3D(d, qty, axes, r=-1, theta=-1, phi=-1, silent=False, f=-1, log=False):\n",
    "    '''\n",
    "    Displays a 3D scatter plot of the specified field quantity with one of the\n",
    "    coordinates held constant.\n",
    "    \n",
    "    Parameters\n",
    "    ----------\n",
    "    d : pyPLUTO.pload\n",
    "        Interface to data object\n",
    "    qty : str\n",
    "        Name of field quantity (e.g. 'rho' or 'prs')\n",
    "    axes : matplotlib.axes.SubplotBase\n",
    "        Plotting interface\n",
    "    r, theta, phi : int\n",
    "        (Optional) Fixes a grid index for the radius, elevation, or azimuth. This\n",
    "        quantity will be kept constant throughout the plot. Only one may be set at\n",
    "        a time. Defaults to a plot of constant radius.\n",
    "    silent : bool\n",
    "        Prints info messages when True, otherwise no messages are printed\n",
    "    log : bool\n",
    "        (Optional) Plots the logarithm of the field quantity (base 10)\n",
    "    \n",
    "    Example\n",
    "    -------\n",
    "    # This will use the pload object `dh` to plot the density for a constant radius.\n",
    "    The radius setting of 20 fixes the radius at dh.x1[20].\n",
    "    pltSphData3D(dh, 'rho', r=20)\n",
    "    '''\n",
    "    \n",
    "    # We default to a constant radius (specifically, the innermost radius)\n",
    "    if r == -1 and phi == -1 and theta == -1:\n",
    "        r = 0\n",
    "    \n",
    "    # Sanity checks on inputs\n",
    "    assert(\n",
    "        (r >= 0  and phi == -1 and theta == -1) or\n",
    "        (r == -1 and phi >= 0  and theta == -1) or\n",
    "        (r == -1 and phi == -1 and theta >= 0 )\n",
    "    ), \"Only one of r, phi, and theta can be specified\"\n",
    "    \n",
    "    assert((qty == 'rho') or (qty == 'prs')), \"qty must be rho or prs\"\n",
    "    \n",
    "    # Coordinates\n",
    "    #    x1 = radial\n",
    "    #    x2 = latitudinal (theta)\n",
    "    #    x3 = longitudinal (azimuthal, phi)\n",
    "    x, y, z, c = [], [], [], []\n",
    "    \n",
    "    num_r = d.x1.shape[0]\n",
    "    num_theta = d.x2.shape[0]\n",
    "    num_phi = d.x3.shape[0]\n",
    "    \n",
    "    # Select either density or pressure based on the string passed in\n",
    "    if qty == 'rho':\n",
    "        field = d.rho\n",
    "    elif qty == 'prs':\n",
    "        field = d.prs\n",
    "    \n",
    "    # Plot the quantity\n",
    "    if(r >= 0):\n",
    "        assert(r <= num_r - 1), \"r is too large (must be <= {0})\".format(num_r - 1)\n",
    "        r_l = d.x1[r]\n",
    "        if not silent:\n",
    "            print(\"Plotting sphere of radius {0}\".format(r_l))\n",
    "        for i in range(num_theta):\n",
    "            theta_l = d.x2[i]\n",
    "            for j in range(num_phi):\n",
    "                phi_l = d.x3[j]\n",
    "                x_p, y_p, z_p = sph2cart(r_l, theta_l, phi_l)\n",
    "                x.append(x_p)\n",
    "                y.append(y_p)\n",
    "                z.append(z_p)\n",
    "                if log:\n",
    "                    c.append(np.log(field[r,i,j]))\n",
    "                else:\n",
    "                    c.append(field[r,i,j])\n",
    "    elif(theta >= 0):\n",
    "        assert(theta <= num_theta - 1), \"theta is too large (must be <= {0})\".format(num_theta - 1)\n",
    "        theta_l = d.x2[theta]\n",
    "        if not silent:\n",
    "            print(\"Plotting cone with elevation angle {0} deg\".format(theta_l * 180 / np.pi))\n",
    "        for i in range(num_r):\n",
    "            r_l = d.x1[i]\n",
    "            for j in range(num_phi):\n",
    "                phi_l = d.x3[j]\n",
    "                x_p, y_p, z_p = sph2cart(r_l, theta_l, phi_l)\n",
    "                x.append(x_p)\n",
    "                y.append(y_p)\n",
    "                z.append(z_p)\n",
    "                if log:\n",
    "                    c.append(np.log(field[i,theta,j]))\n",
    "                else:\n",
    "                    c.append(field[i,theta,j])\n",
    "    else:\n",
    "        assert(phi <= num_phi - 1), \"phi is too large (must be <= {0})\".format(num_phi - 1)\n",
    "        phi_l = d.x3[phi]\n",
    "        if not silent:\n",
    "            print(\"Plotting disk with azimuth {0} deg\".format(phi_l * 180 / np.pi))\n",
    "        for i in range(num_r):\n",
    "            r_l = d.x1[i]\n",
    "            for j in range(num_theta):\n",
    "                theta_l = d.x2[j]\n",
    "                x_p, y_p, z_p = sph2cart(r_l, theta_l, phi_l)\n",
    "                x.append(x_p)\n",
    "                y.append(y_p)\n",
    "                z.append(z_p)\n",
    "                if log:\n",
    "                    c.append(np.log(field[i,j,phi]))\n",
    "                else:\n",
    "                    c.append(field[i,j,phi])\n",
    "    \n",
    "    plt.xlabel('x')\n",
    "    plt.ylabel('y')\n",
    "    \n",
    "    # Update the plot axes, but don't make them smaller\n",
    "    axes.set_xlim3d(\n",
    "        min(axes.get_xlim3d()[0], min(x)),\n",
    "        max(axes.get_xlim3d()[1], max(x))\n",
    "    )\n",
    "    axes.set_ylim3d(\n",
    "        min(axes.get_ylim3d()[0], min(y)),\n",
    "        max(axes.get_ylim3d()[1], max(y))\n",
    "    )\n",
    "    axes.set_zlim3d(\n",
    "        min(axes.get_zlim3d()[0], min(z)),\n",
    "        max(axes.get_zlim3d()[1], max(z))\n",
    "    )\n",
    "    \n",
    "    # Compute the max and min values used for the color\n",
    "    if log:\n",
    "        v_min = np.floor(np.min(np.log(field)))\n",
    "        v_max = np.ceil(np.max(np.log(field)))\n",
    "    else:\n",
    "        v_min = np.floor(np.min(field))\n",
    "        v_max = np.ceil(np.max(field))\n",
    "    \n",
    "    axes.scatter3D(x, y, z, c=c, vmin=v_min, vmax=v_max)"
   ]
  },
  {
   "cell_type": "markdown",
   "metadata": {},
   "source": [
    "### Constant Radius"
   ]
  },
  {
   "cell_type": "code",
   "execution_count": null,
   "metadata": {
    "scrolled": true
   },
   "outputs": [],
   "source": [
    "idx = 0\n",
    "fig = plt.figure()\n",
    "ax = fig.add_subplot(111, projection='3d')\n",
    "pltSphData3D(dh[idx], 'rho', ax, r=1)\n",
    "pltSphData3D(dh[idx], 'rho', ax, r=19)\n",
    "save_plt('3d_const_radius')"
   ]
  },
  {
   "cell_type": "markdown",
   "metadata": {},
   "source": [
    "### Constant Angle of Elevation\n",
    "This view demonstrates the spherical symmetry nicely"
   ]
  },
  {
   "cell_type": "code",
   "execution_count": null,
   "metadata": {},
   "outputs": [],
   "source": [
    "idx = 0\n",
    "fig = plt.figure()\n",
    "ax = fig.add_subplot(111, projection='3d')\n",
    "pltSphData3D(dh[idx], 'rho', ax, theta=5)\n",
    "pltSphData3D(dh[idx], 'rho', ax, theta=10)\n",
    "pltSphData3D(dh[idx], 'rho', ax, theta=19)\n",
    "save_plt('3d_const_elevation')"
   ]
  },
  {
   "cell_type": "markdown",
   "metadata": {},
   "source": [
    "### Constant Azimuth"
   ]
  },
  {
   "cell_type": "code",
   "execution_count": null,
   "metadata": {},
   "outputs": [],
   "source": [
    "idx = 0\n",
    "fig = plt.figure()\n",
    "ax = fig.add_subplot(111, projection='3d')\n",
    "pltSphData3D(dh[idx], 'rho', ax, phi=10)\n",
    "pltSphData3D(dh[idx], 'rho', ax, phi=19)\n",
    "save_plt('3d_const_azimuth')"
   ]
  },
  {
   "cell_type": "markdown",
   "metadata": {},
   "source": [
    "### Combined Plots\n",
    "For fun"
   ]
  },
  {
   "cell_type": "code",
   "execution_count": null,
   "metadata": {},
   "outputs": [],
   "source": [
    "idx = 0\n",
    "fig = plt.figure()\n",
    "ax = fig.add_subplot(111, projection='3d')\n",
    "pltSphData3D(dh[idx], 'rho', ax, phi=10)\n",
    "pltSphData3D(dh[idx], 'rho', ax, theta=18)\n",
    "save_plt('3d_azimuth_and_elevation')"
   ]
  },
  {
   "cell_type": "code",
   "execution_count": null,
   "metadata": {
    "scrolled": true
   },
   "outputs": [],
   "source": [
    "idx = 0\n",
    "fig = plt.figure()\n",
    "ax = fig.add_subplot(111, projection='3d')\n",
    "pltSphData3D(dh[idx], 'rho', ax, theta=18)\n",
    "pltSphData3D(dh[idx], 'rho', ax, r=1)\n",
    "pltSphData3D(dh[idx], 'rho', ax, r=19)\n",
    "save_plt('3d_radius_and_elevation')"
   ]
  },
  {
   "cell_type": "code",
   "execution_count": null,
   "metadata": {},
   "outputs": [],
   "source": []
  },
  {
   "cell_type": "code",
   "execution_count": null,
   "metadata": {},
   "outputs": [],
   "source": []
  },
  {
   "cell_type": "code",
   "execution_count": null,
   "metadata": {},
   "outputs": [],
   "source": []
  }
 ],
 "metadata": {
  "kernelspec": {
   "display_name": "Python 2",
   "language": "python",
   "name": "python2"
  },
  "language_info": {
   "codemirror_mode": {
    "name": "ipython",
    "version": 2
   },
   "file_extension": ".py",
   "mimetype": "text/x-python",
   "name": "python",
   "nbconvert_exporter": "python",
   "pygments_lexer": "ipython2",
   "version": "2.7.14"
  }
 },
 "nbformat": 4,
 "nbformat_minor": 2
}
