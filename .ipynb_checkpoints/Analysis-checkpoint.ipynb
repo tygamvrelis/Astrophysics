{
 "cells": [
  {
   "cell_type": "markdown",
   "metadata": {},
   "source": [
    "# Approaching a 3D Hot Jupiter Model With PLUTO\n",
    "## Summary of Key Attributes of the Setup\n",
    "### definitions.h\n",
    "- HD physics module\n",
    "- Spherical geometry\n",
    "- Rotating frame\n",
    "- 3 day rotation period\n",
    "- Radial coordinate extends to 1.6 times the radius of Jupiter\n",
    "\n",
    "### pluto.ini\n",
    "**Grid and solver**\n",
    "- X1-grid (radius): 2 coordinate patches, each with with uniform spacing\n",
    "    - 0.01 to 1.0 has 20 elements\n",
    "    - 1.0 to 1.2 has 10 elements\n",
    "- X2-grid (elevation): 1 coordinate patch with 36 elements, extending $\\pm80^\\circ$ above the equator\n",
    "- X3-grid (azimuth): 1 coordinate patch with 80 elements, wrapping around the globe completely\n",
    "- CFL = 0.25 with max var 1.1\n",
    "- hllc solver\n",
    "- van Leer limiter\n",
    "\n",
    "**Boundary conditions**\n",
    "- X1-beg: axisymmetric\n",
    "- X1-end: userdef\n",
    "- X2-beg: reflective\n",
    "- X2-end: reflective\n",
    "- X3-beg: periodic\n",
    "- X3-end: periodic\n",
    "\n",
    "**User parameters**\n",
    "- ALPHA = 10.0\n",
    "\n",
    "### init.c\n",
    "**Body force**\n",
    "- The gravitational field is given by\n",
    "$$\n",
    "g = \n",
    "   \\begin{cases} \n",
    "      -1/R^2           & \\quad{\\rm for} \\quad R > 1 \\\\\n",
    "      aR + bR^2 + cR^3 & \\quad{\\rm for} \\quad R < 1 \\\\\n",
    "   \\end{cases}\n",
    "$$\n",
    "Additionally, the rotating frame weakens the effect of gravity in proportion to the cylindrical radius (about the axis of rotation) due to centrifugal force. PLUTO handles this internally for all dynamics, but the centrifugal force needs to be accounted for manually in initial and boundary conditions. This is still a TODO.\n",
    "\n",
    "**Initial conditions**\n",
    "- The density field is initialized to a state of hydrostatic equilibrium (TODO: account for centrifugal force)\n",
    "- All velocities are initially 0\n",
    "- Angular velocity of rotating frame is $$\\Omega_z = \\frac{L}{V T_r}=\\frac{(1.6*6.9911\\times10^9 [cm]) / 1.2}{10^5 [cm/s] \\times3*34*3600 [s]}=0.357$$ in code units, where $L$ and $V$ are the unit length and velocity, respectively, and $T$ is the period of rotation. Note that we define $L$ as the planet radius, $R_p$, divided by the end coordinate of the radius grid ($1.2$) so that unit radius ($1.0$) corresponds to the gravitational field transition from the interior of the planet to the exterior, and maximum radius ($1.2$) corresponds to the edge of the atmosphere\n",
    "\n",
    "**Boundary conditions**\n",
    "- At the end of the radial coordinate, all velocities are 0\n",
    "- At the end of the radial coordinate, density is set to $exp\\big(\\alpha(\\frac{1}{R}-1)\\big)$ and pressure is set to $\\rho/\\alpha$ (isothermal)\n",
    "\n",
    "**Winds (internal boundary condition)**\n",
    "- Winds can be enabled using an internal boundary condition, which forces a certain $v_{phi}$ profile in the upper 10% of the fluid\n",
    "    - Exponential profile (`#define WINDS_EXP`): $$exp\\big(10(R/R_p - 1)\\big) sin(m\\theta + b)$$\n",
    "    - Quadratic profile (`#define WINDS_QUAD`): $$\\bigg(\\frac{R}{R_p}\\bigg)^2sin(m\\theta + b)$$\n",
    "Where $m$ and $b$ are constants used to make the profiles maximum at the equator, and $0$ at the ends of the elevation grid"
   ]
  },
  {
   "cell_type": "markdown",
   "metadata": {},
   "source": [
    "# Analysis of Results"
   ]
  },
  {
   "cell_type": "code",
   "execution_count": 1,
   "metadata": {},
   "outputs": [],
   "source": [
    "import os\n",
    "import sys\n",
    "import numpy as np\n",
    "\n",
    "import matplotlib\n",
    "matplotlib.use('agg')\n",
    "import imageio\n",
    "\n",
    "import matplotlib.pyplot as plt\n",
    "from mpl_toolkits.mplot3d import Axes3D\n",
    "import pyPLUTO as pp\n",
    "\n",
    "from __future__ import print_function\n",
    "\n",
    "# Uncomment this to display plots in this notebook. Not recommended\n",
    "# for large data sets (e.g. more than 10 frames).\n",
    "# Note that all plots will be saved to the working directory anyway.\n",
    "# %matplotlib inline"
   ]
  },
  {
   "cell_type": "markdown",
   "metadata": {},
   "source": [
    "## Loading Data\n",
    "Make sure ```path_to_script```, below, is set to the location where this script is running"
   ]
  },
  {
   "cell_type": "code",
   "execution_count": 2,
   "metadata": {},
   "outputs": [
    {
     "name": "stdout",
     "output_type": "stream",
     "text": [
      "Loading data from D:\\PLUTO\\Work\\data\n",
      "Found data directories: \n",
      "\t0: 10t_centrifugal_exp_winds\n",
      "\t1: 10t_centrifugal_exp_winds_old\n",
      "\t2: 10t_centrifugal_no_winds\n",
      "\t3: 10t_centrifugal_no_winds_old\n",
      "\t4: 3t_centrifugal_no_winds\n",
      "\t5: 3t_centrifugal_no_winds_old\n",
      "\t6: 3t_with_centrifugal\n",
      "\t7: centrifugal_exp_winds_tau2p8\n",
      "\t8: centrifugal_exp_winds_tau5p6\n",
      "\t9: centrifugal_exp_winds_tau8p4\n",
      "\t10: centrifugal_exp_winds_tau8p4_old\n",
      "\t11: centrifugal_exp_winds_vr0_vtheta0\n",
      "\t12: centrifugal_no_winds\n",
      "\t13: centrifugal_no_winds_vr0_vtheta0\n",
      "\t14: disk_planet_no_rotation\n",
      "\t15: disk_planet_rotation\n",
      "\t16: mag\n",
      "\t17: mag_15t\n",
      "\t18: mag_3t\n",
      "\t19: res_20u10u_36_40\n",
      "\t20: res_20u10u_36_40_alpha31p3\n",
      "\t21: res_20u10u_36_40_alpha3p13\n",
      "\t22: res_26_37_40\n",
      "\t23: res_26_74_80\n",
      "\t24: rotating\n",
      "\t25: rotating_ic\n",
      "\t26: rotating_ic_3d\n",
      "\t27: rotating_ic_3d_outflow\n",
      "\t28: rotating_ic_6d\n",
      "\t29: rotating_potential\n",
      "\t30: rotating_winds_10t\n",
      "\t31: rotating_winds_25t_outflow_exp\n",
      "\t32: rotating_winds_25t_outflow_quad\n",
      "\t33: rotating_winds_25t_reflective_exp\n",
      "\t34: rotating_winds_25t_reflective_quad\n",
      "\t35: rotating_winds_3t_outflow_exp\n",
      "\t36: rotating_winds_3t_outflow_quad\n",
      "\t37: rotating_winds_3t_reflective_exp\n",
      "\t38: rotating_winds_3t_reflective_quad\n",
      "\t39: tst\n",
      "\t40: userdeflength\n"
     ]
    }
   ],
   "source": [
    "path_to_script = os.path.join(os.environ['PLUTO_DIR'], 'Work\\\\')\n",
    "w_dir = os.path.join(path_to_script, \"data\")\n",
    "print(\"Loading data from\", w_dir)\n",
    "\n",
    "data_dirs = [directory for directory in os.listdir(os.path.join(w_dir)) if \".\" not in directory]\n",
    "print(\"Found data directories: \")\n",
    "i = 0\n",
    "for dir in data_dirs:\n",
    "    print(\"\\t{0}: {1}\".format(i, dir))\n",
    "    i = i + 1"
   ]
  },
  {
   "cell_type": "markdown",
   "metadata": {},
   "source": [
    "Next, we may have a choice between different data sets to load. These have been enumerated above. To change the data set, change the value of `set_idx`, below to one of the other indices."
   ]
  },
  {
   "cell_type": "code",
   "execution_count": 3,
   "metadata": {},
   "outputs": [
    {
     "name": "stdout",
     "output_type": "stream",
     "text": [
      "Using working directory D:\\PLUTO\\Work\\data\\mag\\\n"
     ]
    }
   ],
   "source": [
    "set_idx = 16\n",
    "wdir = os.path.join(w_dir, data_dirs[set_idx] + os.sep)\n",
    "print(\"Using working directory\", wdir)"
   ]
  },
  {
   "cell_type": "markdown",
   "metadata": {},
   "source": [
    "Next, we use pyPLUTO to load the data in ```wdir``` into a ```pload``` object. ```dh[n]``` is the data handle for data.```n```.dbl."
   ]
  },
  {
   "cell_type": "code",
   "execution_count": 4,
   "metadata": {},
   "outputs": [
    {
     "name": "stdout",
     "output_type": "stream",
     "text": [
      "Reading Data file : D:\\PLUTO\\Work\\data\\mag\\data.0000.dbl\n",
      "Reading Data file : D:\\PLUTO\\Work\\data\\mag\\data.0001.dbl\n",
      "Reading Data file : D:\\PLUTO\\Work\\data\\mag\\data.0002.dbl\n",
      "Reading Data file : D:\\PLUTO\\Work\\data\\mag\\data.0003.dbl\n",
      "Reading Data file : D:\\PLUTO\\Work\\data\\mag\\data.0004.dbl\n",
      "Reading Data file : D:\\PLUTO\\Work\\data\\mag\\data.0005.dbl\n",
      "Reading Data file : D:\\PLUTO\\Work\\data\\mag\\data.0006.dbl\n",
      "Reading Data file : D:\\PLUTO\\Work\\data\\mag\\data.0007.dbl\n",
      "Reading Data file : D:\\PLUTO\\Work\\data\\mag\\data.0008.dbl\n",
      "Reading Data file : D:\\PLUTO\\Work\\data\\mag\\data.0009.dbl\n",
      "Reading Data file : D:\\PLUTO\\Work\\data\\mag\\data.0010.dbl\n",
      "Reading Data file : D:\\PLUTO\\Work\\data\\mag\\data.0011.dbl\n",
      "Reading Data file : D:\\PLUTO\\Work\\data\\mag\\data.0012.dbl\n",
      "Reading Data file : D:\\PLUTO\\Work\\data\\mag\\data.0013.dbl\n",
      "Reading Data file : D:\\PLUTO\\Work\\data\\mag\\data.0014.dbl\n",
      "Reading Data file : D:\\PLUTO\\Work\\data\\mag\\data.0015.dbl\n",
      "Reading Data file : D:\\PLUTO\\Work\\data\\mag\\data.0016.dbl\n",
      "Reading Data file : D:\\PLUTO\\Work\\data\\mag\\data.0017.dbl\n",
      "Reading Data file : D:\\PLUTO\\Work\\data\\mag\\data.0018.dbl\n",
      "Reading Data file : D:\\PLUTO\\Work\\data\\mag\\data.0019.dbl\n",
      "Reading Data file : D:\\PLUTO\\Work\\data\\mag\\data.0020.dbl\n",
      "Reading Data file : D:\\PLUTO\\Work\\data\\mag\\data.0021.dbl\n",
      "Reading Data file : D:\\PLUTO\\Work\\data\\mag\\data.0022.dbl\n",
      "Reading Data file : D:\\PLUTO\\Work\\data\\mag\\data.0023.dbl\n",
      "Reading Data file : D:\\PLUTO\\Work\\data\\mag\\data.0024.dbl\n",
      "Reading Data file : D:\\PLUTO\\Work\\data\\mag\\data.0025.dbl\n",
      "Reading Data file : D:\\PLUTO\\Work\\data\\mag\\data.0026.dbl\n",
      "Reading Data file : D:\\PLUTO\\Work\\data\\mag\\data.0027.dbl\n",
      "Reading Data file : D:\\PLUTO\\Work\\data\\mag\\data.0028.dbl\n",
      "Reading Data file : D:\\PLUTO\\Work\\data\\mag\\data.0029.dbl\n",
      "Reading Data file : D:\\PLUTO\\Work\\data\\mag\\data.0030.dbl\n",
      "Reading Data file : D:\\PLUTO\\Work\\data\\mag\\data.0031.dbl\n",
      "Reading Data file : D:\\PLUTO\\Work\\data\\mag\\data.0032.dbl\n",
      "Reading Data file : D:\\PLUTO\\Work\\data\\mag\\data.0033.dbl\n",
      "Reading Data file : D:\\PLUTO\\Work\\data\\mag\\data.0034.dbl\n",
      "Reading Data file : D:\\PLUTO\\Work\\data\\mag\\data.0035.dbl\n",
      "Reading Data file : D:\\PLUTO\\Work\\data\\mag\\data.0036.dbl\n",
      "Reading Data file : D:\\PLUTO\\Work\\data\\mag\\data.0037.dbl\n",
      "Reading Data file : D:\\PLUTO\\Work\\data\\mag\\data.0038.dbl\n",
      "Reading Data file : D:\\PLUTO\\Work\\data\\mag\\data.0039.dbl\n",
      "Reading Data file : D:\\PLUTO\\Work\\data\\mag\\data.0040.dbl\n",
      "Reading Data file : D:\\PLUTO\\Work\\data\\mag\\data.0041.dbl\n",
      "Reading Data file : D:\\PLUTO\\Work\\data\\mag\\data.0042.dbl\n",
      "Reading Data file : D:\\PLUTO\\Work\\data\\mag\\data.0043.dbl\n",
      "Reading Data file : D:\\PLUTO\\Work\\data\\mag\\data.0044.dbl\n",
      "Reading Data file : D:\\PLUTO\\Work\\data\\mag\\data.0045.dbl\n",
      "Reading Data file : D:\\PLUTO\\Work\\data\\mag\\data.0046.dbl\n",
      "Reading Data file : D:\\PLUTO\\Work\\data\\mag\\data.0047.dbl\n",
      "Reading Data file : D:\\PLUTO\\Work\\data\\mag\\data.0048.dbl\n",
      "Reading Data file : D:\\PLUTO\\Work\\data\\mag\\data.0049.dbl\n",
      "Reading Data file : D:\\PLUTO\\Work\\data\\mag\\data.0050.dbl\n",
      "Reading Data file : D:\\PLUTO\\Work\\data\\mag\\data.0051.dbl\n",
      "Reading Data file : D:\\PLUTO\\Work\\data\\mag\\data.0052.dbl\n",
      "Reading Data file : D:\\PLUTO\\Work\\data\\mag\\data.0053.dbl\n",
      "Reading Data file : D:\\PLUTO\\Work\\data\\mag\\data.0054.dbl\n",
      "Reading Data file : D:\\PLUTO\\Work\\data\\mag\\data.0055.dbl\n",
      "Reading Data file : D:\\PLUTO\\Work\\data\\mag\\data.0056.dbl\n",
      "Reading Data file : D:\\PLUTO\\Work\\data\\mag\\data.0057.dbl\n",
      "Reading Data file : D:\\PLUTO\\Work\\data\\mag\\data.0058.dbl\n",
      "Reading Data file : D:\\PLUTO\\Work\\data\\mag\\data.0059.dbl\n",
      "Reading Data file : D:\\PLUTO\\Work\\data\\mag\\data.0060.dbl\n",
      "Reading Data file : D:\\PLUTO\\Work\\data\\mag\\data.0061.dbl\n",
      "Reading Data file : D:\\PLUTO\\Work\\data\\mag\\data.0062.dbl\n",
      "Reading Data file : D:\\PLUTO\\Work\\data\\mag\\data.0063.dbl\n",
      "Reading Data file : D:\\PLUTO\\Work\\data\\mag\\data.0064.dbl\n",
      "Reading Data file : D:\\PLUTO\\Work\\data\\mag\\data.0065.dbl\n",
      "Reading Data file : D:\\PLUTO\\Work\\data\\mag\\data.0066.dbl\n",
      "Reading Data file : D:\\PLUTO\\Work\\data\\mag\\data.0067.dbl\n",
      "Reading Data file : D:\\PLUTO\\Work\\data\\mag\\data.0068.dbl\n",
      "Reading Data file : D:\\PLUTO\\Work\\data\\mag\\data.0069.dbl\n",
      "Reading Data file : D:\\PLUTO\\Work\\data\\mag\\data.0070.dbl\n",
      "Reading Data file : D:\\PLUTO\\Work\\data\\mag\\data.0071.dbl\n",
      "Reading Data file : D:\\PLUTO\\Work\\data\\mag\\data.0072.dbl\n",
      "Reading Data file : D:\\PLUTO\\Work\\data\\mag\\data.0073.dbl\n",
      "Reading Data file : D:\\PLUTO\\Work\\data\\mag\\data.0074.dbl\n",
      "Reading Data file : D:\\PLUTO\\Work\\data\\mag\\data.0075.dbl\n",
      "Reading Data file : D:\\PLUTO\\Work\\data\\mag\\data.0076.dbl\n",
      "Reading Data file : D:\\PLUTO\\Work\\data\\mag\\data.0077.dbl\n",
      "Reading Data file : D:\\PLUTO\\Work\\data\\mag\\data.0078.dbl\n",
      "Reading Data file : D:\\PLUTO\\Work\\data\\mag\\data.0079.dbl\n",
      "Reading Data file : D:\\PLUTO\\Work\\data\\mag\\data.0080.dbl\n",
      "Reading Data file : D:\\PLUTO\\Work\\data\\mag\\data.0081.dbl\n",
      "Reading Data file : D:\\PLUTO\\Work\\data\\mag\\data.0082.dbl\n",
      "Reading Data file : D:\\PLUTO\\Work\\data\\mag\\data.0083.dbl\n",
      "Reading Data file : D:\\PLUTO\\Work\\data\\mag\\data.0084.dbl\n",
      "Reading Data file : D:\\PLUTO\\Work\\data\\mag\\data.0085.dbl\n",
      "Reading Data file : D:\\PLUTO\\Work\\data\\mag\\data.0086.dbl\n",
      "Reading Data file : D:\\PLUTO\\Work\\data\\mag\\data.0087.dbl\n",
      "Reading Data file : D:\\PLUTO\\Work\\data\\mag\\data.0088.dbl\n",
      "Reading Data file : D:\\PLUTO\\Work\\data\\mag\\data.0089.dbl\n",
      "Reading Data file : D:\\PLUTO\\Work\\data\\mag\\data.0090.dbl\n",
      "Reading Data file : D:\\PLUTO\\Work\\data\\mag\\data.0091.dbl\n",
      "Reading Data file : D:\\PLUTO\\Work\\data\\mag\\data.0092.dbl\n",
      "Reading Data file : D:\\PLUTO\\Work\\data\\mag\\data.0093.dbl\n",
      "Reading Data file : D:\\PLUTO\\Work\\data\\mag\\data.0094.dbl\n",
      "Reading Data file : D:\\PLUTO\\Work\\data\\mag\\data.0095.dbl\n",
      "Reading Data file : D:\\PLUTO\\Work\\data\\mag\\data.0096.dbl\n",
      "Reading Data file : D:\\PLUTO\\Work\\data\\mag\\data.0097.dbl\n",
      "Reading Data file : D:\\PLUTO\\Work\\data\\mag\\data.0098.dbl\n",
      "Reading Data file : D:\\PLUTO\\Work\\data\\mag\\data.0099.dbl\n",
      "Reading Data file : D:\\PLUTO\\Work\\data\\mag\\data.0100.dbl\n",
      "Reading Data file : D:\\PLUTO\\Work\\data\\mag\\data.0101.dbl\n",
      "Reading Data file : D:\\PLUTO\\Work\\data\\mag\\data.0102.dbl\n",
      "Reading Data file : D:\\PLUTO\\Work\\data\\mag\\data.0103.dbl\n",
      "Reading Data file : D:\\PLUTO\\Work\\data\\mag\\data.0104.dbl\n",
      "Reading Data file : D:\\PLUTO\\Work\\data\\mag\\data.0105.dbl\n",
      "Reading Data file : D:\\PLUTO\\Work\\data\\mag\\data.0106.dbl\n",
      "Reading Data file : D:\\PLUTO\\Work\\data\\mag\\data.0107.dbl\n",
      "Reading Data file : D:\\PLUTO\\Work\\data\\mag\\data.0108.dbl\n",
      "Reading Data file : D:\\PLUTO\\Work\\data\\mag\\data.0109.dbl\n",
      "Reading Data file : D:\\PLUTO\\Work\\data\\mag\\data.0110.dbl\n",
      "Reading Data file : D:\\PLUTO\\Work\\data\\mag\\data.0111.dbl\n",
      "Reading Data file : D:\\PLUTO\\Work\\data\\mag\\data.0112.dbl\n",
      "Reading Data file : D:\\PLUTO\\Work\\data\\mag\\data.0113.dbl\n",
      "Reading Data file : D:\\PLUTO\\Work\\data\\mag\\data.0114.dbl\n",
      "Reading Data file : D:\\PLUTO\\Work\\data\\mag\\data.0115.dbl\n",
      "Reading Data file : D:\\PLUTO\\Work\\data\\mag\\data.0116.dbl\n",
      "Reading Data file : D:\\PLUTO\\Work\\data\\mag\\data.0117.dbl\n",
      "Reading Data file : D:\\PLUTO\\Work\\data\\mag\\data.0118.dbl\n",
      "Reading Data file : D:\\PLUTO\\Work\\data\\mag\\data.0119.dbl\n",
      "Reading Data file : D:\\PLUTO\\Work\\data\\mag\\data.0120.dbl\n"
     ]
    }
   ],
   "source": [
    "n_frames = len([file for file in os.listdir(wdir) if \"data\" in file and \".dbl\" in file])\n",
    "dh = list() # List of data handles\n",
    "for i in range(n_frames):\n",
    "    d = pp.pload(i, w_dir = wdir)\n",
    "    dh.append(d)"
   ]
  },
  {
   "cell_type": "markdown",
   "metadata": {},
   "source": [
    "## Animations\n",
    "Now we define some functions and variables to help with making animations from the data"
   ]
  },
  {
   "cell_type": "code",
   "execution_count": 5,
   "metadata": {},
   "outputs": [],
   "source": [
    "im_set = []\n",
    "DEFAULT_FRAME_PERIOD = 0.25\n",
    "    \n",
    "def save_plt(fname, w_dir=wdir, image_set=im_set, track=True):\n",
    "    '''\n",
    "    Saves plots to the working directory\n",
    "\n",
    "    Parameters\n",
    "    ----------\n",
    "    fname : str\n",
    "        The name to be given to the image file\n",
    "    wdir : str\n",
    "        (Optional) The location where the file is to be saved\n",
    "    image_set : list\n",
    "        Holds the file names related to this analysis set\n",
    "    track : bool\n",
    "        True if this file should be tracked in the analysis set\n",
    "    '''\n",
    "    name = fname + '.png'\n",
    "    plt.savefig(os.path.join(w_dir, name))\n",
    "    if track:\n",
    "        image_set.append(name)\n",
    "\n",
    "\n",
    "def end_set(frame_period=DEFAULT_FRAME_PERIOD, w_dir=wdir, image_set=im_set, del_frames=True):\n",
    "    # Make .gif animation of the frames\n",
    "    images = []\n",
    "    for filename in image_set:\n",
    "        images.append(imageio.imread(os.path.join(w_dir, filename)))\n",
    "    gif_name = os.path.join(w_dir, image_set[-1][:-4] + '.gif')\n",
    "    print(gif_name)\n",
    "    imageio.mimsave(gif_name, images, duration=frame_period)\n",
    "    # Delete individual frames to save space\n",
    "    if del_frames:\n",
    "        for filename in image_set:\n",
    "            os.remove(os.path.join(w_dir, filename))\n",
    "    del image_set[:]\n",
    "    \n",
    "def clear_set(image_set=im_set):\n",
    "    del image_set[:]"
   ]
  },
  {
   "cell_type": "markdown",
   "metadata": {},
   "source": [
    "## 2D Plots\n",
    "We now define a function to help us with plotting, and also perform some one-time plot configurations."
   ]
  },
  {
   "cell_type": "code",
   "execution_count": 9,
   "metadata": {
    "scrolled": true
   },
   "outputs": [],
   "source": [
    "def get_field_qty(field, df, idx, const_elevation=False, const_azimuth=False):\n",
    "    plot_v = field == 'v_phi' or field == 'v_r' or field =='v_theta'\n",
    "    plot_b = field == 'b_phi' or field == 'b_r' or field =='b_theta'\n",
    "    assert(field == 'rho' or plot_v or plot_b), \"field argument is invalid\"\n",
    "    assert(const_elevation != const_azimuth), \"EITHER the azimuth or elevation may be specified, not both\"\n",
    "    \n",
    "    # Find the field quantity\n",
    "    if field == 'rho':\n",
    "        qty = df.rho\n",
    "    elif plot_v:\n",
    "        if field == 'v_r':\n",
    "            qty = df.vx1\n",
    "        elif field == 'v_theta':\n",
    "            qty = df.vx2\n",
    "        elif field == 'v_phi':\n",
    "            qty = df.vx3\n",
    "    elif plot_b:\n",
    "        if field == 'b_r':\n",
    "            qty = df.bx1\n",
    "        elif field == 'b_theta':\n",
    "            qty = df.bx2\n",
    "        elif field == 'b_phi':\n",
    "            qty = df.bx3\n",
    "\n",
    "    # Get the spatial slice\n",
    "    if const_azimuth:\n",
    "        qty = qty[:,:,idx].T\n",
    "    elif const_elevation:\n",
    "        qty = qty[:,idx,:].T\n",
    "    \n",
    "    return qty;\n",
    "\n",
    "\n",
    "# TODO(Tyler): instead of simply passing in True or False, we should be able to specify\n",
    "# the desired elevation angle, or azimuthal angle and then choose the closest value\n",
    "# that we have on the grid\n",
    "def plot_2d(\n",
    "    data,\n",
    "    const_elevation=False,\n",
    "    theta=90,\n",
    "    const_azimuth=False,\n",
    "    phi=0,\n",
    "    log=False,\n",
    "    data_idx=-1,\n",
    "    field='',\n",
    "    arrows=False,\n",
    "    v_min=float('inf'),\n",
    "    v_max=float('inf')\n",
    "):\n",
    "    '''\n",
    "    Plots scalar and vector field quantities.\n",
    "    \n",
    "    Parameters\n",
    "    ----------\n",
    "    data : list of pyPLUTO.pload\n",
    "        List of data frames\n",
    "    const_elevation : bool\n",
    "        If True, plots the density as a function of radius and elevation\n",
    "        Exclusive to const_azimuth\n",
    "    theta : double\n",
    "        The elevation (latitude) to fix, if applicable. Given in degrees\n",
    "    phi : double\n",
    "        The longitude to fix, if applicable. Given in degrees\n",
    "    const_azimuth : double\n",
    "        If True, plots the density as a function of radius and azimuth\n",
    "        Exclusive to const_elevation\n",
    "    log : bool\n",
    "        (Optional) Plots the logarithm for scalar fields (base 10)\n",
    "    data_idx : int\n",
    "        (Optional) Causes only the specified frame to be plotted\n",
    "    field : str\n",
    "        The field quantity to plot\n",
    "            - \"rho\" for density\n",
    "            - \"v_phi\" for azimuthal velocity\n",
    "            - \"v_r\" for radial velocity\n",
    "            - \"v_theta\" for meridional velocity\n",
    "    arrows : bool\n",
    "        Switch to plot velocity vectors\n",
    "    v_min : float\n",
    "        Specifies what the colorbar's min color should be\n",
    "    v_max : float\n",
    "        Specifies what the colorbar's max color should be\n",
    "    '''\n",
    "    \n",
    "    if const_elevation == False and const_azimuth == False:\n",
    "        const_elevation = True\n",
    "    \n",
    "    # Sanity check on inputs\n",
    "    plot_v = field == 'v_phi' or field == 'v_r' or field =='v_theta'\n",
    "    plot_b = field == 'b_phi' or field == 'b_r' or field =='b_theta'\n",
    "    assert(field == '' or plot_v or plot_b), \"field argument is invalid\"\n",
    "    assert(const_elevation != True or const_azimuth != True), \"EITHER the azimuth or elevation may be specified, not both\"\n",
    "    assert(not (field == '' and log == True)), \"Cannot do log plot if no field quantity is specified\"\n",
    "    assert(data_idx <= len(dh)), \"data_idx must be <= len(dh)\"\n",
    "    \n",
    "    single_only = (data_idx != -1)\n",
    "    nframes = len(data)\n",
    "    nrows   = 1 if single_only else np.round(np.sqrt(nframes))\n",
    "    ncols   = 1 if single_only else np.round(np.sqrt(nframes) + 1)\n",
    "    theta_idx = (np.abs(dh[0].x2 - theta * np.pi / 180)).argmin()\n",
    "    phi_idx   = (np.abs(dh[0].x3 - phi * np.pi / 180)).argmin()\n",
    "    fig = plt.figure()\n",
    "    for idx in range(nframes):\n",
    "        if single_only and idx != data_idx:\n",
    "            continue\n",
    "        # Set up quantities\n",
    "        if plot_v:\n",
    "            U = data[idx].vx1\n",
    "        elif plot_b:\n",
    "            U = data[idx].bx1\n",
    "        X = data[idx].x1\n",
    "        if const_azimuth:\n",
    "            Y = 90 - (180 / np.pi) * data[idx].x2\n",
    "            if plot_v:\n",
    "                V = -1 * data[idx].vx2\n",
    "            if plot_b:\n",
    "                V = -1 * data[idx].bx2\n",
    "            U = U[:,:,phi_idx].T\n",
    "            V = V[:,:,phi_idx].T\n",
    "            annotations = [field, 'X1 (radius)', 'X2 (elevation)']\n",
    "            qty = get_field_qty(field, data[idx], phi_idx, const_azimuth=True)\n",
    "        elif const_elevation:\n",
    "            Y = (180 / np.pi) * data[idx].x3\n",
    "            if plot_v:\n",
    "                V = data[idx].vx3\n",
    "            if plot_b:\n",
    "                V = data[idx].bx3\n",
    "            U = U[:,theta_idx,:].T\n",
    "            V = V[:,theta_idx,:].T\n",
    "            annotations = [field, 'X1 (radius)', 'X3 (azimuth)']\n",
    "            qty = get_field_qty(field, data[idx], theta_idx, const_elevation=True)\n",
    "    \n",
    "        # Plotting\n",
    "        if single_only:\n",
    "            plt.subplot(nrows, ncols, 1)\n",
    "        else:\n",
    "            plt.subplot(nrows, ncols, idx + 1)\n",
    "        if field != '':\n",
    "            if log:\n",
    "                annotations[0] = \"Log10 \" + annotations[0]\n",
    "                qty = np.log10(qty)\n",
    "            if v_min == float('inf'):\n",
    "                v_min = np.floor(np.min(qty))\n",
    "            if v_max == float('inf'):\n",
    "                v_max = np.ceil(np.max(qty))\n",
    "            plt.pcolormesh(X, Y, qty, vmin=v_min, vmax=v_max)\n",
    "            if (single_only or ((idx != 0 and (idx+1) % ncols == 0) or idx == nframes-1)):\n",
    "                plt.colorbar()\n",
    "        if arrows:\n",
    "            plt.quiver(X, Y, U, V)\n",
    "        annotations[0] = annotations[0] +  ' (time: ' + str(np.round(data[idx].SimTime, 2)) + ')'\n",
    "        plt.title(annotations[0])\n",
    "        plt.xlabel(annotations[1])\n",
    "        if single_only or idx % ncols == 0:\n",
    "            plt.ylabel(annotations[2])\n",
    "        if single_only:\n",
    "            break\n",
    "\n",
    "    # Save image to working directory\n",
    "    if const_azimuth:\n",
    "        fname = \"rad_and_theta_vs_\" + field\n",
    "    elif const_elevation:\n",
    "        fname = \"rad_and_phi_vs_\" + field\n",
    "    if arrows:\n",
    "        if fname[-1] != '_':\n",
    "            fname = fname + \"_\"\n",
    "        fname = fname + \"vector\"\n",
    "    fname = fname + \"_max\" + str(v_max)\n",
    "    if not single_only:\n",
    "        save_plt(fname, track=False)\n",
    "    else:\n",
    "        fname = fname + \"_t\" + str(np.round(data[idx].SimTime, 2))\n",
    "        save_plt(fname)\n",
    "    plt.close();\n",
    "\n",
    "\n",
    "# Inches\n",
    "width = 20\n",
    "height = 25\n",
    "\n",
    "# One-time plot configuration\n",
    "plt.rcParams['figure.figsize'] = [width, height]\n",
    "plt.tight_layout()\n",
    "plt.subplots_adjust(hspace=0.5)"
   ]
  },
  {
   "cell_type": "markdown",
   "metadata": {},
   "source": [
    "We now fix the azimuth, and plot how the density varies with radius and elevation. The code below will either plot this relationship for only the first time snapshot, or for all time snapshots depending on whether `only_plot_first_frame`, below, is `True` or `False`."
   ]
  },
  {
   "cell_type": "markdown",
   "metadata": {},
   "source": [
    "# Vector Plots"
   ]
  },
  {
   "cell_type": "markdown",
   "metadata": {},
   "source": [
    "## Analysis Parameters"
   ]
  },
  {
   "cell_type": "code",
   "execution_count": 10,
   "metadata": {},
   "outputs": [],
   "source": [
    "# Plot a few specific frames. Note that -1 will plot all frames\n",
    "#frames = [-1, 0, 5, 10, 15]\n",
    "frames = range(len(dh))\n",
    "\n",
    "# Scale to these velocities for each frame\n",
    "v_analyze = [0.01, 1]\n",
    "\n",
    "# Scale to these magnetic fields for each frame\n",
    "b_analyze = [1e-4]"
   ]
  },
  {
   "cell_type": "markdown",
   "metadata": {},
   "source": [
    "## Velocities on an elevation slice"
   ]
  },
  {
   "cell_type": "code",
   "execution_count": 11,
   "metadata": {
    "scrolled": true
   },
   "outputs": [
    {
     "name": "stdout",
     "output_type": "stream",
     "text": [
      "D:\\PLUTO\\Work\\data\\mag\\rad_and_theta_vs_v_r_vector_max0.01_t30.0.gif\n",
      "D:\\PLUTO\\Work\\data\\mag\\rad_and_theta_vs_v_r_vector_max1_t30.0.gif\n"
     ]
    }
   ],
   "source": [
    "clear_set()\n",
    "for vmax in v_analyze:\n",
    "    for idx in frames:\n",
    "        plot_2d(dh, const_azimuth=True, data_idx=idx, field='v_r', arrows=True, v_min=-1*vmax, v_max=vmax)\n",
    "    end_set()"
   ]
  },
  {
   "cell_type": "code",
   "execution_count": 12,
   "metadata": {},
   "outputs": [
    {
     "name": "stdout",
     "output_type": "stream",
     "text": [
      "D:\\PLUTO\\Work\\data\\mag\\rad_and_theta_vs_v_theta_vector_max0.01_t30.0.gif\n",
      "D:\\PLUTO\\Work\\data\\mag\\rad_and_theta_vs_v_theta_vector_max1_t30.0.gif\n"
     ]
    }
   ],
   "source": [
    "clear_set()\n",
    "for vmax in v_analyze:\n",
    "    for idx in frames:\n",
    "        plot_2d(dh, const_azimuth=True, data_idx=idx, field='v_theta', arrows=True, v_min=-1*vmax, v_max=vmax)\n",
    "    end_set()"
   ]
  },
  {
   "cell_type": "markdown",
   "metadata": {},
   "source": [
    "## Zonal velocities at equator"
   ]
  },
  {
   "cell_type": "code",
   "execution_count": 13,
   "metadata": {},
   "outputs": [
    {
     "name": "stdout",
     "output_type": "stream",
     "text": [
      "D:\\PLUTO\\Work\\data\\mag\\rad_and_phi_vs_v_phi_vector_max0.01_t30.0.gif\n",
      "D:\\PLUTO\\Work\\data\\mag\\rad_and_phi_vs_v_phi_vector_max1_t30.0.gif\n"
     ]
    }
   ],
   "source": [
    "clear_set()\n",
    "for vmax in v_analyze:\n",
    "    for idx in frames:\n",
    "        plot_2d(dh, const_elevation=True, theta=90, data_idx=idx, field='v_phi', arrows=True, v_min=-1*vmax, v_max=vmax)\n",
    "    end_set()"
   ]
  },
  {
   "cell_type": "markdown",
   "metadata": {},
   "source": [
    "## Magnetic field on an elevation slice"
   ]
  },
  {
   "cell_type": "code",
   "execution_count": 14,
   "metadata": {},
   "outputs": [
    {
     "name": "stdout",
     "output_type": "stream",
     "text": [
      "D:\\PLUTO\\Work\\data\\mag\\rad_and_theta_vs_b_r_vector_max0.0001_t30.0.gif\n"
     ]
    }
   ],
   "source": [
    "clear_set()\n",
    "for bmax in b_analyze:\n",
    "    for idx in frames:\n",
    "        plot_2d(dh, const_azimuth=True, data_idx=idx, field='b_r', arrows=True, v_min=-1*bmax, v_max=bmax)\n",
    "    end_set()"
   ]
  },
  {
   "cell_type": "code",
   "execution_count": 15,
   "metadata": {},
   "outputs": [
    {
     "name": "stdout",
     "output_type": "stream",
     "text": [
      "D:\\PLUTO\\Work\\data\\mag\\rad_and_theta_vs_b_theta_vector_max0.0001_t30.0.gif\n"
     ]
    }
   ],
   "source": [
    "clear_set()\n",
    "for bmax in b_analyze:\n",
    "    for idx in frames:\n",
    "        plot_2d(dh, const_azimuth=True, data_idx=idx, field='b_theta', arrows=True, v_min=-1*bmax, v_max=bmax)\n",
    "    end_set()"
   ]
  },
  {
   "cell_type": "markdown",
   "metadata": {},
   "source": [
    "## Zonal magnetic field at equator"
   ]
  },
  {
   "cell_type": "code",
   "execution_count": 16,
   "metadata": {},
   "outputs": [
    {
     "name": "stdout",
     "output_type": "stream",
     "text": [
      "D:\\PLUTO\\Work\\data\\mag\\rad_and_phi_vs_b_phi_vector_max0.0001_t30.0.gif\n"
     ]
    }
   ],
   "source": [
    "clear_set()\n",
    "for bmax in b_analyze:\n",
    "    for idx in frames:\n",
    "        plot_2d(dh, const_elevation=True, theta=90, data_idx=idx, field='b_phi', arrows=True, v_min=-1*bmax, v_max=bmax)\n",
    "    end_set()"
   ]
  },
  {
   "cell_type": "markdown",
   "metadata": {},
   "source": [
    "## Density"
   ]
  },
  {
   "cell_type": "code",
   "execution_count": null,
   "metadata": {},
   "outputs": [],
   "source": [
    "idx = -1 # Make this negative, or omit, to plot for all time frames\n",
    "plot_2d(dh, const_azimuth=True, log=True, data_idx=idx, field='rho')\n",
    "save_plt('rho_vs_rad_vs_lat')"
   ]
  },
  {
   "cell_type": "markdown",
   "metadata": {},
   "source": [
    "## Radial Density Profile\n",
    "Here we will plot how the density varies with radius, when the elevation and azimuth are fixed. We will define this as a general-purpose function so that we can reuse it."
   ]
  },
  {
   "cell_type": "code",
   "execution_count": null,
   "metadata": {},
   "outputs": [],
   "source": [
    "def subplot_radius_vs_density_2d(data, theta, phi, log=False, first_only=False):\n",
    "    '''\n",
    "    Plots density profiles as a function of the radius for fixed theta and phi, for\n",
    "    all time steps.\n",
    "    \n",
    "    Parameters\n",
    "    ----------\n",
    "    data : list of pyPLUTO.pload\n",
    "        List of data frames\n",
    "    theta : double\n",
    "        The desired elevation angle (spherical coordinates)\n",
    "    phi : double\n",
    "        The desired azimuthal angle\n",
    "    log : bool\n",
    "        (Optional) Plots the logarithm of the density (base 10)\n",
    "    first_only : bool\n",
    "        (Optional) Causes only the first frame to be plotted\n",
    "        \n",
    "    Note that the values specified for theta and/or phi may not exist on the grid since\n",
    "    it is discrete. The closest value will be used in such cases.\n",
    "    '''\n",
    "    \n",
    "    theta_idx = (np.abs(dh[0].x2 - theta * np.pi / 180)).argmin()\n",
    "    phi_idx = (np.abs(dh[0].x3 - phi * np.pi / 180)).argmin()\n",
    "    \n",
    "    nframes = 1 if first_only else len(data)\n",
    "    nrows   = 1 if first_only else np.round(np.sqrt(nframes))\n",
    "    ncols   = 1 if first_only else np.round(np.sqrt(nframes) + 1)\n",
    "    for idx in range(nframes):\n",
    "        plt.subplot(nrows, ncols, idx + 1)\n",
    "        qty = np.log10(dh[idx].rho[:, theta_idx, phi_idx])\n",
    "        plt.scatter(dh[idx].x1, qty)\n",
    "        plt.title('Time: ' + str(np.round(dh[idx].SimTime, 2)) +\n",
    "                  ' (theta = ' + str(np.round(dh[idx].x2[theta_idx] * 180 / np.pi, decimals=1)) +\n",
    "                  ', phi = ' + str(np.round(dh[idx].x3[phi_idx] * 180 / np.pi, decimals=1)) + ')'\n",
    "        )\n",
    "        plt.xlabel('X1 (radius)')\n",
    "        plt.ylabel('Log 10 Density')"
   ]
  },
  {
   "cell_type": "markdown",
   "metadata": {},
   "source": [
    "### North Pole"
   ]
  },
  {
   "cell_type": "code",
   "execution_count": null,
   "metadata": {},
   "outputs": [],
   "source": [
    "subplot_radius_vs_density_2d(dh, 0, 0, first_only=False);\n",
    "save_plt('rho_vs_rad_north_pole_profile')"
   ]
  },
  {
   "cell_type": "markdown",
   "metadata": {},
   "source": [
    "### Equator"
   ]
  },
  {
   "cell_type": "code",
   "execution_count": null,
   "metadata": {},
   "outputs": [],
   "source": [
    "subplot_radius_vs_density_2d(dh, 90, 0, first_only=False);\n",
    "save_plt('rho_vs_rad_equator_profile')"
   ]
  },
  {
   "cell_type": "markdown",
   "metadata": {},
   "source": [
    "### South Pole"
   ]
  },
  {
   "cell_type": "code",
   "execution_count": null,
   "metadata": {},
   "outputs": [],
   "source": [
    "subplot_radius_vs_density_2d(dh, 180, 0, first_only=False);\n",
    "save_plt('rho_vs_rad_south_pole_profile')"
   ]
  },
  {
   "cell_type": "markdown",
   "metadata": {},
   "source": [
    "## 3D Plots\n",
    "First we will define some functions to help us with plotting in 3D. The scatter plots only work nicely with cartesian coordinates so we will have to convert from spherical."
   ]
  },
  {
   "cell_type": "code",
   "execution_count": null,
   "metadata": {},
   "outputs": [],
   "source": [
    "def sph2cart(r, theta, phi):\n",
    "    '''\n",
    "    Converts the inputted spherical coordinates to cartesian coordinates\n",
    "    \n",
    "    Parameters\n",
    "    ----------\n",
    "    r : double\n",
    "        The radius\n",
    "    theta : double\n",
    "        The altitude\n",
    "    phi : double\n",
    "        The azimuth\n",
    "    '''\n",
    "    x = r * np.sin(theta) * np.cos(phi)\n",
    "    y = r * np.sin(theta) * np.sin(phi)\n",
    "    z = r * np.cos(theta)\n",
    "    return x, y, z\n",
    "\n",
    "\n",
    "def sph2cart(r, theta, phi):\n",
    "    '''\n",
    "    Converts the inputted spherical coordinates to cartesian coordinates\n",
    "    \n",
    "    Parameters\n",
    "    ----------\n",
    "    r : double\n",
    "        The radius\n",
    "    theta : double\n",
    "        The altitude\n",
    "    phi : double\n",
    "        The azimuth\n",
    "    '''\n",
    "    x = r * np.sin(theta) * np.cos(phi)\n",
    "    y = r * np.sin(theta) * np.sin(phi)\n",
    "    z = r * np.cos(theta)\n",
    "    return x, y, z\n",
    "\n",
    "\n",
    "def pltSphData3D(d, qty, axes, r=-1, theta=-1, phi=-1, silent=False, f=-1,\n",
    "    log=False, v_min=float('inf'), v_max=float('inf'), size=20\n",
    "):\n",
    "    '''\n",
    "    Displays a 3D scatter plot of the specified field quantity with one of the\n",
    "    coordinates held constant.\n",
    "    \n",
    "    Parameters\n",
    "    ----------\n",
    "    d : pyPLUTO.pload\n",
    "        Interface to data object\n",
    "    qty : str\n",
    "        Name of field quantity (e.g. 'rho' or 'prs')\n",
    "    axes : matplotlib.axes.SubplotBase\n",
    "        Plotting interface\n",
    "    r, theta, phi : int\n",
    "        (Optional) Fixes a grid index for the radius, elevation, or azimuth. This\n",
    "        quantity will be kept constant throughout the plot. Only one may be set at\n",
    "        a time. Defaults to a plot of constant radius.\n",
    "    silent : bool\n",
    "        Prints info messages when True, otherwise no messages are printed\n",
    "    log : bool\n",
    "        (Optional) Plots the logarithm of the field quantity (base 10)\n",
    "    v_min : float\n",
    "        Specifies the min value for the color scale\n",
    "    v_max : float\n",
    "        Specifies the max value for the color scale\n",
    "    size : float\n",
    "        Specifies point size to pass into the plotter\n",
    "    \n",
    "    Example\n",
    "    -------\n",
    "    # This will use the pload object `dh` to plot the density for a constant radius.\n",
    "    The radius setting of 20 fixes the radius at dh.x1[20].\n",
    "    pltSphData3D(dh, 'rho', r=20)\n",
    "    '''\n",
    "    \n",
    "    # We default to a constant radius (specifically, the innermost radius)\n",
    "    if r == -1 and phi == -1 and theta == -1:\n",
    "        r = 0\n",
    "    \n",
    "    # Sanity checks on inputs\n",
    "    assert(\n",
    "        (r >= 0  and phi == -1 and theta == -1) or\n",
    "        (r == -1 and phi >= 0  and theta == -1) or\n",
    "        (r == -1 and phi == -1 and theta >= 0 )\n",
    "    ), \"Only one of r, phi, and theta can be specified\"\n",
    "    \n",
    "    assert(qty == 'rho' or qty == 'prs' or qty == 'v_r' or qty == 'v_theta' or qty == 'v_phi'), \"Invalid field quantity\"\n",
    "    \n",
    "    # Coordinates\n",
    "    #    x1 = radial\n",
    "    #    x2 = latitudinal (theta)\n",
    "    #    x3 = longitudinal (azimuthal, phi)\n",
    "    x, y, z, c = [], [], [], []\n",
    "    \n",
    "    num_r = d.x1.shape[0]\n",
    "    num_theta = d.x2.shape[0]\n",
    "    num_phi = d.x3.shape[0]\n",
    "    \n",
    "    # Select either density or pressure based on the string passed in\n",
    "    if qty == 'rho':\n",
    "        field = d.rho\n",
    "    elif qty == 'prs':\n",
    "        field = d.prs\n",
    "    elif qty == 'v_r':\n",
    "        field = d.vx1\n",
    "    elif qty == 'v_theta':\n",
    "        field = d.vx2\n",
    "    elif qty == 'v_phi':\n",
    "        field = d.vx3\n",
    "\n",
    "    if log:\n",
    "        field = np.log(field)\n",
    "    \n",
    "    # Plot the quantity\n",
    "    if(r >= 0):\n",
    "        assert(r <= num_r - 1), \"r is too large (must be <= {0})\".format(num_r - 1)\n",
    "        r_l = d.x1[r]\n",
    "        if not silent:\n",
    "            print(\"Plotting sphere of radius {0}\".format(r_l))\n",
    "        for i in range(num_theta):\n",
    "            theta_l = d.x2[i]\n",
    "            for j in range(num_phi):\n",
    "                phi_l = d.x3[j]\n",
    "                x_p, y_p, z_p = sph2cart(r_l, theta_l, phi_l)\n",
    "                x.append(x_p)\n",
    "                y.append(y_p)\n",
    "                z.append(z_p)\n",
    "                c.append(field[r,i,j])\n",
    "    elif(theta >= 0):\n",
    "        assert(theta <= num_theta - 1), \"theta is too large (must be <= {0})\".format(num_theta - 1)\n",
    "        theta_l = d.x2[theta]\n",
    "        if not silent:\n",
    "            print(\"Plotting cone with elevation angle {0} deg\".format(theta_l * 180 / np.pi))\n",
    "        for i in range(num_r):\n",
    "            r_l = d.x1[i]\n",
    "            for j in range(num_phi):\n",
    "                phi_l = d.x3[j]\n",
    "                x_p, y_p, z_p = sph2cart(r_l, theta_l, phi_l)\n",
    "                x.append(x_p)\n",
    "                y.append(y_p)\n",
    "                z.append(z_p)\n",
    "                c.append(field[i,theta,j])\n",
    "    else:\n",
    "        assert(phi <= num_phi - 1), \"phi is too large (must be <= {0})\".format(num_phi - 1)\n",
    "        phi_l = d.x3[phi]\n",
    "        if not silent:\n",
    "            print(\"Plotting disk with azimuth {0} deg\".format(phi_l * 180 / np.pi))\n",
    "        for i in range(num_r):\n",
    "            r_l = d.x1[i]\n",
    "            for j in range(num_theta):\n",
    "                theta_l = d.x2[j]\n",
    "                x_p, y_p, z_p = sph2cart(r_l, theta_l, phi_l)\n",
    "                x.append(x_p)\n",
    "                y.append(y_p)\n",
    "                z.append(z_p)\n",
    "                c.append(field[i,j,phi])\n",
    "    \n",
    "    plt.xlabel('x')\n",
    "    plt.ylabel('y')\n",
    "    \n",
    "    # Update the plot axes, but don't make them smaller\n",
    "    axes.set_xlim3d(\n",
    "        min(axes.get_xlim3d()[0], min(x)),\n",
    "        max(axes.get_xlim3d()[1], max(x))\n",
    "    )\n",
    "    axes.set_ylim3d(\n",
    "        min(axes.get_ylim3d()[0], min(y)),\n",
    "        max(axes.get_ylim3d()[1], max(y))\n",
    "    )\n",
    "    axes.set_zlim3d(\n",
    "        min(axes.get_zlim3d()[0], min(z)),\n",
    "        max(axes.get_zlim3d()[1], max(z))\n",
    "    )\n",
    "    \n",
    "    # Compute the max and min values used for the color\n",
    "    if v_min == float('inf'):\n",
    "        v_min = np.floor(np.min(field))\n",
    "    if v_max == float('inf'):\n",
    "        v_max = np.ceil(np.max(field))\n",
    "    axes.scatter3D(x, y, z, c=c, vmin=v_min, vmax=v_max, s=size)"
   ]
  },
  {
   "cell_type": "markdown",
   "metadata": {},
   "source": [
    "### Constant Azimuth"
   ]
  },
  {
   "cell_type": "code",
   "execution_count": null,
   "metadata": {},
   "outputs": [],
   "source": [
    "clear_set()\n",
    "for vmax in v_analyze:\n",
    "    for idx in frames:\n",
    "        fig = plt.figure()\n",
    "        ax = fig.add_subplot(111, projection='3d')\n",
    "        pltSphData3D(dh[idx], 'v_theta', ax, size=1000, phi=40, v_min=-1*vmax, v_max=vmax)\n",
    "        pltSphData3D(dh[idx], 'v_theta', ax, size=1000, phi=79, v_min=-1*vmax, v_max=vmax)\n",
    "        save_plt('3d_const_azimuth_vtheta' + \"_vmax\" + str(np.round(vmax, 2)) + \"_f\" + str(idx) + \"_1000\", track=(idx != -1))\n",
    "    end_set()"
   ]
  },
  {
   "cell_type": "markdown",
   "metadata": {},
   "source": [
    "### Combined Plots"
   ]
  },
  {
   "cell_type": "code",
   "execution_count": null,
   "metadata": {},
   "outputs": [],
   "source": [
    "clear_set()\n",
    "for vmax in v_analyze:\n",
    "    for idx in frames:\n",
    "        fig = plt.figure()\n",
    "        ax = fig.add_subplot(111, projection='3d')\n",
    "        pltSphData3D(dh[idx], 'v_phi', ax, size=1000, phi=10, v_min=-1*vmax, v_max=vmax)\n",
    "        pltSphData3D(dh[idx], 'v_phi', ax, size=1000, phi=50, v_min=-1*vmax, v_max=vmax)\n",
    "        pltSphData3D(dh[idx], 'v_phi', ax, size=1000, theta=0, v_min=-1*vmax, v_max=vmax)\n",
    "        pltSphData3D(dh[idx], 'v_phi', ax, size=1000, theta=35, v_min=-1*vmax, v_max=vmax)\n",
    "        pltSphData3D(dh[idx], 'v_phi', ax, size=1000, r=1, v_min=-1*vmax, v_max=vmax)\n",
    "        save_plt('3d_azimuth_and_elevation_vphi' + \"_vmax\" + str(np.round(vmax, 2)) + \"_f\" + str(idx) + \"_1000\", track=(idx != -1))\n",
    "    end_set()"
   ]
  },
  {
   "cell_type": "code",
   "execution_count": null,
   "metadata": {},
   "outputs": [],
   "source": [
    "clear_set()\n",
    "for vmax in v_analyze:\n",
    "    for idx in frames:\n",
    "        fig = plt.figure()\n",
    "        ax = fig.add_subplot(111, projection='3d')\n",
    "        pltSphData3D(dh[idx], 'v_theta', ax, size=1000, phi=10, v_min=-1*vmax, v_max=vmax)\n",
    "        pltSphData3D(dh[idx], 'v_theta', ax, size=1000, phi=50, v_min=-1*vmax, v_max=vmax)\n",
    "        pltSphData3D(dh[idx], 'v_theta', ax, size=1000, theta=0, v_min=-1*vmax, v_max=vmax)\n",
    "        pltSphData3D(dh[idx], 'v_theta', ax, size=1000, theta=35, v_min=-1*vmax, v_max=vmax)\n",
    "        pltSphData3D(dh[idx], 'v_theta', ax, size=1000, r=1, v_min=-1*vmax, v_max=vmax)\n",
    "        save_plt('3d_azimuth_and_elevation_vtheta' + \"_vmax\" + str(np.round(vmax, 2)) + \"_f\" + str(idx) + \"_1000\", track=(idx != -1))\n",
    "    end_set()"
   ]
  },
  {
   "cell_type": "code",
   "execution_count": null,
   "metadata": {
    "scrolled": false
   },
   "outputs": [],
   "source": [
    "clear_set()\n",
    "for vmax in v_analyze:\n",
    "    for idx in frames:\n",
    "        fig = plt.figure()\n",
    "        ax = fig.add_subplot(111, projection='3d')\n",
    "        pltSphData3D(dh[idx], 'v_r', ax, size=1000, phi=10, v_min=-1*vmax, v_max=vmax)\n",
    "        pltSphData3D(dh[idx], 'v_r', ax, size=1000, phi=50, v_min=-1*vmax, v_max=vmax)\n",
    "        pltSphData3D(dh[idx], 'v_r', ax, size=1000, theta=0, v_min=-1*vmax, v_max=vmax)\n",
    "        pltSphData3D(dh[idx], 'v_r', ax, size=1000, theta=35, v_min=-1*vmax, v_max=vmax)\n",
    "        pltSphData3D(dh[idx], 'v_r', ax, size=1000, r=1, v_min=-1*vmax, v_max=vmax)\n",
    "        save_plt('3d_azimuth_and_elevation_vr' + \"_vmax\" + str(np.round(vmax, 2)) + \"_f\" + str(idx) + \"_1000\", track=(idx != -1))\n",
    "    end_set()"
   ]
  },
  {
   "cell_type": "code",
   "execution_count": null,
   "metadata": {},
   "outputs": [],
   "source": []
  }
 ],
 "metadata": {
  "kernelspec": {
   "display_name": "Python 2",
   "language": "python",
   "name": "python2"
  },
  "language_info": {
   "codemirror_mode": {
    "name": "ipython",
    "version": 2
   },
   "file_extension": ".py",
   "mimetype": "text/x-python",
   "name": "python",
   "nbconvert_exporter": "python",
   "pygments_lexer": "ipython2",
   "version": "2.7.14"
  }
 },
 "nbformat": 4,
 "nbformat_minor": 2
}
