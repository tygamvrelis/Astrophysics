{
 "cells": [
  {
   "cell_type": "markdown",
   "metadata": {},
   "source": [
    "# Approaching a 3D Hot Jupiter Model With PLUTO\n",
    "## Summary of Key Attributes of the Setup\n",
    "### PLUTO\n",
    "Version 4.3 of PLUTO is used in the C code.\n",
    "\n",
    "### definitions.h\n",
    "- MHD physics module\n",
    "- Spherical geometry\n",
    "- Rotating frame\n",
    "- 3 day rotation period\n",
    "- Radial coordinate extends to 1.6 times the radius of Jupiter\n",
    "- Unit length: $L = 1.6*6.9911\\times10^9 [cm] / 1.2 = 9.321466666\\times10^9$\n",
    "- Unit velocity: $V = 1.0e5 [cm/s]$\n",
    "- Unit density: $1.0e-9$\n",
    "- $div(B) = 0$ control: constrained transport with UCT_HLL EMF average\n",
    "- Background field splitting: enabled\n",
    "- Resistivity: enabled, super time-stepping\n",
    "\n",
    "Consequently, unit time is $T = L / V = 93214.6666667 [s] = 1.07887345679 [days]$\n",
    "\n",
    "### pluto.ini\n",
    "**Grid and solver**\n",
    "- X1-grid (radius): 2 coordinate patches, each with with uniform spacing\n",
    "    - 0.01 to 1.0 has 20 elements\n",
    "    - 1.0 to 1.2 has 10 elements\n",
    "- X2-grid (elevation): 1 coordinate patch with 36 elements, extending $\\pm80^\\circ$ above the equator\n",
    "- X3-grid (azimuth): 1 coordinate patch with 80 elements, wrapping around the globe completely\n",
    "- CFL = 0.25 with max var 1.1\n",
    "- hllc solver\n",
    "- van Leer limiter\n",
    "\n",
    "**Boundary conditions**\n",
    "- X1-beg: axisymmetric\n",
    "- X1-end: userdef\n",
    "- X2-beg: outflow\n",
    "- X2-end: outflow\n",
    "- X3-beg: periodic\n",
    "- X3-end: periodic\n",
    "\n",
    "**User parameters**\n",
    "- ALPHA = 10.0\n",
    "- VMAX = 1.0\n",
    "    - Max value of the $V_{phi}$ profile\n",
    "- EXP_DECAY = 10.0  \n",
    "    - Time constant for the exponential $V_phi$ profile\n",
    "- TRELAX = 8.403361344  \n",
    "    - Relaxation time in code units\n",
    "- BSURFACE = 5\n",
    "    - Surface value of background magnetic field\n",
    "\n",
    "### init.c\n",
    "**Body force**\n",
    "- The gravitational field is given by\n",
    "$$\n",
    "g = \n",
    "   \\begin{cases} \n",
    "      -1/R^2           & \\quad{\\rm for} \\quad R > 1 \\\\\n",
    "      aR + bR^2 + cR^3 & \\quad{\\rm for} \\quad R < 1 \\\\\n",
    "   \\end{cases}\n",
    "$$\n",
    "Additionally, the rotating frame weakens the effect of gravity in proportion to the cylindrical radius (about the axis of rotation) due to centrifugal force. PLUTO handles this internally for all dynamics, but the centrifugal force needs to be accounted for manually in initial and boundary conditions.\n",
    "\n",
    "**Initial conditions**\n",
    "- The density field is initialized to a state of hydrostatic equilibrium\n",
    "- All velocities are initially 0\n",
    "- Angular velocity of rotating frame is $$\\Omega_z = \\frac{L}{V T_r}=\\frac{(1.6*6.9911\\times10^9 [cm]) / 1.2}{10^5 [cm/s] \\times3*34*3600 [s]}=0.357$$ in code units, where $L$ and $V$ are the unit length and velocity, respectively, and $T$ is the period of rotation. Note that we define $L$ as the planet radius, $R_p$, divided by the end coordinate of the radius grid ($1.2$) so that unit radius ($1.0$) corresponds to the gravitational field transition from the interior of the planet to the exterior, and maximum radius ($1.2$) corresponds to the edge of the atmosphere\n",
    "\n",
    "**Boundary conditions**\n",
    "- At the end of the radial coordinate, all velocities are 0\n",
    "- At the end of the radial coordinate, density is set to $exp\\bigg(\\alpha\\big((\\frac{1}{R}-1) + \\frac{1}{2}\\Omega_z^2R^2sin^2(\\theta)\\big)\\bigg)$ and pressure is set to $\\rho/\\alpha$ (isothermal). The second term in the exponential is to account for centrifugal force, and this also appears in the initial condition\n",
    "- At the end of the radial coordinate, the radial component of the magnetic field is reflected\n",
    "\n",
    "**Winds (body force along phi coordinate)**\n",
    "- Winds can be enabled using an internal boundary condition, which forces a certain $v_{phi}$ profile in a portion of the fluid. Alternatively, winds can be imposed as a body force. The latter approach is preferred since it can be time-dependent in a sense by _relaxing_ to the desired profile, while the former generally has a discontinuous state at the boundary of the profile.\n",
    "- Using the relaxation scheme, the force along the phi coordinate is as follows: $$F_{phi} = \\frac{V_{profile} - V_{phi}}{\\tau_{relax}}$$\n",
    "    Where $V_{profile}$ is one of the time-independent profiles below, $V_{phi}$ is the current velocity along the phi coordinate, and $\\tau = t [days] / T$. For example, a relaxation of 3 rotation periods corresponds to $\\tau = 3\\times3 / T = 3\\times3 / 1.07887345679 = 8.342$ code units.\n",
    "- Two wind profiles are available:\n",
    "    - Exponential profile (`#define WINDS_EXP`): $$exp\\big(10(R/R_p - 1)\\big) sin(m\\theta + b)$$\n",
    "    - Quadratic profile (`#define WINDS_QUAD`): $$\\bigg(\\frac{R}{R_p}\\bigg)^2sin(m\\theta + b)$$\n",
    "    Where $m$ and $b$ are constants used to make the profiles maximum at the equator, and $0$ at the ends of the elevation grid\n",
    "\n",
    "**Magnetic field**\n",
    "- Magnetic field splitting used, which means that a background curl-free magnetic field ($B0$) is specified, and the magnetic field recorded by PLUTO is the deviation from this background field ($B1$).\n",
    "- Two background fields are available:\n",
    "    - Dipole (`#define B_DIPOLE`): $$B0 = \\frac{M}{r^3}\\big(2cos(\\theta)\\hat{r} + sin(\\theta)\\hat{\\theta}\\big)$$\n",
    "    - Weak uniform (`Define B_UNIFORM`): $$B0 = \\frac{\\sqrt{8\\pi\\times min(p)}}{1000} \\hat{z}$$\n",
    "    Where $M = \\text{BSURFACE}\\times max(R)^3 / (V \\times \\sqrt{4\\pi P})$, where the last factor is for converting the field in Gauss to code units, and $min(p)$ is the minimum pressure in the domain.\n",
    "\n",
    "**Resistivity**\n",
    "- Given a conductivity in $[S/m]$ (SI), we can find a corresponding conductivity in c.g.s. units by multiplying by $c^2/10^{11}$, where $c$ is the speed of light in $[cm/s]$. For example, $\\sigma_{SI}=1 [S/m] \\rightarrow \\sigma_{cgs}=8.988\\times10^9 [s^{-1}]$.\n",
    "- Resistivity is given by $$\\eta = \\frac{c^2}{4\\pi\\sigma_{cgs}}$$\n",
    "- For example, a conductivity of $1 [S/m]$ corresponds to a resistivity of $7.95\\times10^9 [cm^2/s]$\n",
    "- To non-dimensionalize $\\eta$, we divide by $L^2/T = LV$. For $L$ and $V$ defined previously, this means $L^2/T = 9.3214667\\times10^{14}$\n",
    "- Simplifying, we get: $$\\eta_c = \\frac{10^{11}}{4\\pi\\sigma_{SI}LV}$$ and for our particular choice of $L$ and $V$: $$\\eta_{c,cgs}(\\sigma_{SI}) = \\frac{8.537\\times10^{-6}}{\\sigma_{SI}}$$ or $$\\eta_{c,cgs}(\\sigma_{cgs}) = \\frac{7.673\\times10^4}{\\sigma_{cgs}}$$"
   ]
  },
  {
   "cell_type": "markdown",
   "metadata": {},
   "source": [
    "# Analysis of Results"
   ]
  },
  {
   "cell_type": "code",
   "execution_count": 1,
   "metadata": {},
   "outputs": [],
   "source": [
    "%config IPCompleter.greedy=True\n",
    "\n",
    "import os\n",
    "# from scripts.load_util \n",
    "# from scripts.field_util\n",
    "# from scripts.calc_util\n",
    "from scripts.vis_util import *\n",
    "\n",
    "from __future__ import print_function\n",
    "\n",
    "# Uncomment this to display plots in this notebook. Not recommended\n",
    "# for large data sets (e.g. more than 10 frames).\n",
    "# Note that all plots will be saved to the working directory anyway.\n",
    "# %matplotlib inline"
   ]
  },
  {
   "cell_type": "markdown",
   "metadata": {},
   "source": [
    "## Loading Data\n",
    "Make sure ```path_to_script```, below, is set to the location where this script is running"
   ]
  },
  {
   "cell_type": "markdown",
   "metadata": {},
   "source": [
    "Next, we may have a choice between different data sets to load. These have been enumerated above. To change the data set, change the value of `set_idx`, below to one of the other indices."
   ]
  },
  {
   "cell_type": "code",
   "execution_count": 2,
   "metadata": {},
   "outputs": [
    {
     "name": "stdout",
     "output_type": "stream",
     "text": [
      "Loading data from D:\\PLUTO\\Work\\data\n",
      "Found data directories: \n",
      "\t0: 10t_centrifugal_exp_winds\n",
      "\t1: 10t_centrifugal_exp_winds_old\n",
      "\t2: 10t_centrifugal_no_winds\n",
      "\t3: 10t_centrifugal_no_winds_old\n",
      "\t4: 3t_centrifugal_no_winds\n",
      "\t5: 3t_centrifugal_no_winds_old\n",
      "\t6: 3t_with_centrifugal\n",
      "\t7: centrifugal_exp_winds_tau2p8\n",
      "\t8: centrifugal_exp_winds_tau5p6\n",
      "\t9: centrifugal_exp_winds_tau8p4\n",
      "\t10: centrifugal_exp_winds_tau8p4_old\n",
      "\t11: centrifugal_exp_winds_vr0_vtheta0\n",
      "\t12: centrifugal_no_winds\n",
      "\t13: centrifugal_no_winds_vr0_vtheta0\n",
      "\t14: disk_planet_no_rotation\n",
      "\t15: disk_planet_rotation\n",
      "\t16: mag_15t\n",
      "\t17: mag_30t\n",
      "\t18: mag_3t\n",
      "\t19: mag_dipole\n",
      "\t20: mag_dipole_15t\n",
      "\t21: mag_dipole_1t\n",
      "\t22: mag_dipole_1t_10G\n",
      "\t23: mag_dipole_30t\n",
      "\t24: mag_dipole_3t\n",
      "\t25: mag_dipole_current\n",
      "\t26: mag_dipole_current_old\n",
      "\t27: mag_dipole_no_bg_field\n",
      "\t28: mag_dipole_no_bg_field_small_t\n",
      "\t29: mag_dipole_reflective_tau2p78\n",
      "\t30: mag_dipole_small_t\n",
      "\t31: mag_new_density\n",
      "\t32: mag_uniform_b\n",
      "\t33: mag_uniform_b_high_res\n",
      "\t34: resistivity_1e-1Spm\n",
      "\t35: resistivity_1e-2Spm\n",
      "\t36: resistivity_1e-3Spm\n",
      "\t37: resistivity_1e-4Spm\n",
      "\t38: resistivity_1e-5Spm\n",
      "\t39: resistivity_profile\n",
      "\t40: resistivity_profile_new\n",
      "\t41: res_20u10u_36_40\n",
      "\t42: res_20u10u_36_40_alpha31p3\n",
      "\t43: res_20u10u_36_40_alpha3p13\n",
      "\t44: res_26_37_40\n",
      "\t45: res_26_74_80\n",
      "\t46: rotating\n",
      "\t47: rotating_ic\n",
      "\t48: rotating_ic_3d\n",
      "\t49: rotating_ic_3d_outflow\n",
      "\t50: rotating_ic_6d\n",
      "\t51: rotating_potential\n",
      "\t52: rotating_winds_10t\n",
      "\t53: rotating_winds_25t_outflow_exp\n",
      "\t54: rotating_winds_25t_outflow_quad\n",
      "\t55: rotating_winds_25t_reflective_exp\n",
      "\t56: rotating_winds_25t_reflective_quad\n",
      "\t57: rotating_winds_3t_outflow_exp\n",
      "\t58: rotating_winds_3t_outflow_quad\n",
      "\t59: rotating_winds_3t_reflective_exp\n",
      "\t60: rotating_winds_3t_reflective_quad\n",
      "\t61: tmp\n",
      "\t62: tst\n",
      "\t63: userdeflength\n",
      "\t64: vphi_dens\n",
      "\t65: vphi_large_b\n",
      "\t66: vphi_normal_b\n",
      "\t67: vphi_no_b\n",
      "\t68: vphi_small_b\n"
     ]
    }
   ],
   "source": [
    "path_to_script = os.path.join(os.environ['PLUTO_DIR'], 'Work\\\\')\n",
    "w_dir = os.path.join(path_to_script, \"data\")\n",
    "print(\"Loading data from\", w_dir)\n",
    "\n",
    "data_dirs = [directory for directory in os.listdir(os.path.join(w_dir)) if \".\" not in directory]\n",
    "print(\"Found data directories: \")\n",
    "i = 0\n",
    "for dir in data_dirs:\n",
    "    print(\"\\t{0}: {1}\".format(i, dir))\n",
    "    i = i + 1"
   ]
  },
  {
   "cell_type": "code",
   "execution_count": 3,
   "metadata": {},
   "outputs": [
    {
     "name": "stdout",
     "output_type": "stream",
     "text": [
      "Using working directory D:\\PLUTO\\Work\\data\\resistivity_profile\\\n"
     ]
    }
   ],
   "source": [
    "set_idx = 39\n",
    "wdir = os.path.join(w_dir, data_dirs[set_idx] + os.sep)\n",
    "print(\"Using working directory\", wdir)"
   ]
  },
  {
   "cell_type": "markdown",
   "metadata": {},
   "source": [
    "Next, we use pyPLUTO to load the data in ```wdir``` into a ```pload``` object. ```dh[n]``` is the data handle for data.```n```.dbl."
   ]
  },
  {
   "cell_type": "code",
   "execution_count": 4,
   "metadata": {},
   "outputs": [
    {
     "name": "stdout",
     "output_type": "stream",
     "text": [
      "Reading Data file : D:\\PLUTO\\Work\\data\\resistivity_profile\\data.0000.dbl\n",
      "Reading Data file : D:\\PLUTO\\Work\\data\\resistivity_profile\\data.0001.dbl\n",
      "Reading Data file : D:\\PLUTO\\Work\\data\\resistivity_profile\\data.0002.dbl\n",
      "Reading Data file : D:\\PLUTO\\Work\\data\\resistivity_profile\\data.0003.dbl\n",
      "Reading Data file : D:\\PLUTO\\Work\\data\\resistivity_profile\\data.0004.dbl\n",
      "Reading Data file : D:\\PLUTO\\Work\\data\\resistivity_profile\\data.0005.dbl\n",
      "Reading Data file : D:\\PLUTO\\Work\\data\\resistivity_profile\\data.0006.dbl\n",
      "Reading Data file : D:\\PLUTO\\Work\\data\\resistivity_profile\\data.0007.dbl\n",
      "Reading Data file : D:\\PLUTO\\Work\\data\\resistivity_profile\\data.0008.dbl\n",
      "Reading Data file : D:\\PLUTO\\Work\\data\\resistivity_profile\\data.0009.dbl\n",
      "Reading Data file : D:\\PLUTO\\Work\\data\\resistivity_profile\\data.0010.dbl\n",
      "Reading Data file : D:\\PLUTO\\Work\\data\\resistivity_profile\\data.0011.dbl\n",
      "Reading Data file : D:\\PLUTO\\Work\\data\\resistivity_profile\\data.0012.dbl\n",
      "Reading Data file : D:\\PLUTO\\Work\\data\\resistivity_profile\\data.0013.dbl\n",
      "Reading Data file : D:\\PLUTO\\Work\\data\\resistivity_profile\\data.0014.dbl\n",
      "Reading Data file : D:\\PLUTO\\Work\\data\\resistivity_profile\\data.0015.dbl\n",
      "Reading Data file : D:\\PLUTO\\Work\\data\\resistivity_profile\\data.0016.dbl\n",
      "Reading Data file : D:\\PLUTO\\Work\\data\\resistivity_profile\\data.0017.dbl\n",
      "Reading Data file : D:\\PLUTO\\Work\\data\\resistivity_profile\\data.0018.dbl\n",
      "Reading Data file : D:\\PLUTO\\Work\\data\\resistivity_profile\\data.0019.dbl\n",
      "Reading Data file : D:\\PLUTO\\Work\\data\\resistivity_profile\\data.0020.dbl\n",
      "Reading Data file : D:\\PLUTO\\Work\\data\\resistivity_profile\\data.0021.dbl\n",
      "Reading Data file : D:\\PLUTO\\Work\\data\\resistivity_profile\\data.0022.dbl\n",
      "Reading Data file : D:\\PLUTO\\Work\\data\\resistivity_profile\\data.0023.dbl\n",
      "Reading Data file : D:\\PLUTO\\Work\\data\\resistivity_profile\\data.0024.dbl\n",
      "Reading Data file : D:\\PLUTO\\Work\\data\\resistivity_profile\\data.0025.dbl\n",
      "Reading Data file : D:\\PLUTO\\Work\\data\\resistivity_profile\\data.0026.dbl\n",
      "Reading Data file : D:\\PLUTO\\Work\\data\\resistivity_profile\\data.0027.dbl\n",
      "Reading Data file : D:\\PLUTO\\Work\\data\\resistivity_profile\\data.0028.dbl\n",
      "Reading Data file : D:\\PLUTO\\Work\\data\\resistivity_profile\\data.0029.dbl\n",
      "Reading Data file : D:\\PLUTO\\Work\\data\\resistivity_profile\\data.0030.dbl\n",
      "Reading Data file : D:\\PLUTO\\Work\\data\\resistivity_profile\\data.0031.dbl\n",
      "Reading Data file : D:\\PLUTO\\Work\\data\\resistivity_profile\\data.0032.dbl\n",
      "Reading Data file : D:\\PLUTO\\Work\\data\\resistivity_profile\\data.0033.dbl\n",
      "Reading Data file : D:\\PLUTO\\Work\\data\\resistivity_profile\\data.0034.dbl\n",
      "Reading Data file : D:\\PLUTO\\Work\\data\\resistivity_profile\\data.0035.dbl\n",
      "Reading Data file : D:\\PLUTO\\Work\\data\\resistivity_profile\\data.0036.dbl\n",
      "Reading Data file : D:\\PLUTO\\Work\\data\\resistivity_profile\\data.0037.dbl\n",
      "Reading Data file : D:\\PLUTO\\Work\\data\\resistivity_profile\\data.0038.dbl\n",
      "Reading Data file : D:\\PLUTO\\Work\\data\\resistivity_profile\\data.0039.dbl\n",
      "Reading Data file : D:\\PLUTO\\Work\\data\\resistivity_profile\\data.0040.dbl\n",
      "Reading Data file : D:\\PLUTO\\Work\\data\\resistivity_profile\\data.0041.dbl\n",
      "Reading Data file : D:\\PLUTO\\Work\\data\\resistivity_profile\\data.0042.dbl\n",
      "Reading Data file : D:\\PLUTO\\Work\\data\\resistivity_profile\\data.0043.dbl\n",
      "Reading Data file : D:\\PLUTO\\Work\\data\\resistivity_profile\\data.0044.dbl\n",
      "Reading Data file : D:\\PLUTO\\Work\\data\\resistivity_profile\\data.0045.dbl\n",
      "Reading Data file : D:\\PLUTO\\Work\\data\\resistivity_profile\\data.0046.dbl\n",
      "Reading Data file : D:\\PLUTO\\Work\\data\\resistivity_profile\\data.0047.dbl\n",
      "Reading Data file : D:\\PLUTO\\Work\\data\\resistivity_profile\\data.0048.dbl\n",
      "Reading Data file : D:\\PLUTO\\Work\\data\\resistivity_profile\\data.0049.dbl\n",
      "Reading Data file : D:\\PLUTO\\Work\\data\\resistivity_profile\\data.0050.dbl\n",
      "Reading Data file : D:\\PLUTO\\Work\\data\\resistivity_profile\\data.0051.dbl\n",
      "Reading Data file : D:\\PLUTO\\Work\\data\\resistivity_profile\\data.0052.dbl\n",
      "Reading Data file : D:\\PLUTO\\Work\\data\\resistivity_profile\\data.0053.dbl\n",
      "Reading Data file : D:\\PLUTO\\Work\\data\\resistivity_profile\\data.0054.dbl\n",
      "Reading Data file : D:\\PLUTO\\Work\\data\\resistivity_profile\\data.0055.dbl\n",
      "Reading Data file : D:\\PLUTO\\Work\\data\\resistivity_profile\\data.0056.dbl\n",
      "Reading Data file : D:\\PLUTO\\Work\\data\\resistivity_profile\\data.0057.dbl\n",
      "Reading Data file : D:\\PLUTO\\Work\\data\\resistivity_profile\\data.0058.dbl\n",
      "Reading Data file : D:\\PLUTO\\Work\\data\\resistivity_profile\\data.0059.dbl\n",
      "Reading Data file : D:\\PLUTO\\Work\\data\\resistivity_profile\\data.0060.dbl\n",
      "Reading Data file : D:\\PLUTO\\Work\\data\\resistivity_profile\\data.0061.dbl\n",
      "Reading Data file : D:\\PLUTO\\Work\\data\\resistivity_profile\\data.0062.dbl\n",
      "Reading Data file : D:\\PLUTO\\Work\\data\\resistivity_profile\\data.0063.dbl\n",
      "Reading Data file : D:\\PLUTO\\Work\\data\\resistivity_profile\\data.0064.dbl\n",
      "Reading Data file : D:\\PLUTO\\Work\\data\\resistivity_profile\\data.0065.dbl\n"
     ]
    }
   ],
   "source": [
    "dh = load_pluto_dataframes(wdir)"
   ]
  },
  {
   "cell_type": "code",
   "execution_count": 5,
   "metadata": {},
   "outputs": [
    {
     "name": "stdout",
     "output_type": "stream",
     "text": [
      "Attempting to load unit constants\n",
      "Using unit constants:\n",
      "\tUNIT_DENSITY = 1e-09 [g/cm]\n",
      "\tUNIT_VELOCITY = 100000.0 [cm/s]\n",
      "\tUNIT_LENGTH = 9321466666.7 [cm]\n",
      "\n",
      "Loading user params\n",
      "User params:\n",
      "\tEXP_DECAY: 10.0\n",
      "\tBSURFACE: 5.0\n",
      "\tTRELAX: 2.780678\n",
      "\tETA: 8.5e-05\n",
      "\tVMAX: 1.0\n",
      "\tALPHA: 10.0\n"
     ]
    }
   ],
   "source": [
    "load_unit_constants(wdir)\n",
    "load_user_params(wdir)\n",
    "pass"
   ]
  },
  {
   "cell_type": "code",
   "execution_count": 6,
   "metadata": {},
   "outputs": [
    {
     "name": "stdout",
     "output_type": "stream",
     "text": [
      "Converted all magnetic field quantities from code units to cgs units\n"
     ]
    }
   ],
   "source": [
    "# TODO (tyler): find a more flexible way of doing this\n",
    "for frame in dh:\n",
    "    frame.Bx1 = get_physical_b_units(frame.Bx1)\n",
    "    frame.Bx2 = get_physical_b_units(frame.Bx2)\n",
    "    frame.Bx3 = get_physical_b_units(frame.Bx3)\n",
    "print(\"Converted all magnetic field quantities from code units to cgs units\")"
   ]
  },
  {
   "cell_type": "code",
   "execution_count": 7,
   "metadata": {},
   "outputs": [
    {
     "name": "stdout",
     "output_type": "stream",
     "text": [
      "LOADED background magnetic field\n"
     ]
    }
   ],
   "source": [
    "try:\n",
    "    settings.B0 = MagField()\n",
    "    settings.B0.load_field(dh[0], wdir)\n",
    "    print(\"LOADED background magnetic field\")\n",
    "except Exception as e:\n",
    "    print(e)\n",
    "    print(\"No background magnetic field file to load\")"
   ]
  },
  {
   "cell_type": "code",
   "execution_count": 8,
   "metadata": {},
   "outputs": [
    {
     "name": "stdout",
     "output_type": "stream",
     "text": [
      "LOADED resistivity field\n"
     ]
    }
   ],
   "source": [
    "try:\n",
    "    settings.eta = EtaField()\n",
    "    settings.eta.load_field(dh[0], wdir)\n",
    "    print(\"LOADED resistivity field\")\n",
    "except Exception as e:\n",
    "    print(e)\n",
    "    print(\"No resistivity field file to load\")"
   ]
  },
  {
   "cell_type": "markdown",
   "metadata": {},
   "source": [
    "## Image Settings"
   ]
  },
  {
   "cell_type": "code",
   "execution_count": 9,
   "metadata": {},
   "outputs": [
    {
     "data": {
      "text/plain": [
       "<matplotlib.figure.Figure at 0x2402bb70>"
      ]
     },
     "metadata": {},
     "output_type": "display_data"
    }
   ],
   "source": [
    "set_image_defaults() # One-time configuration of some matplotlib settings"
   ]
  },
  {
   "cell_type": "markdown",
   "metadata": {},
   "source": [
    "# Vector Plots"
   ]
  },
  {
   "cell_type": "markdown",
   "metadata": {},
   "source": [
    "## Analysis Parameters"
   ]
  },
  {
   "cell_type": "code",
   "execution_count": 10,
   "metadata": {},
   "outputs": [],
   "source": [
    "# Plot a few specific frames. Note that -1 will plot all frames\n",
    "frames = range(len(dh))\n",
    "mgr = image_set_manager(wdir)\n",
    "\n",
    "# Scale to these velocities for each frame\n",
    "v_analyze = [0.1, 1.0]\n",
    "\n",
    "# Scale to these magnetic fields for each frame\n",
    "b_analyze = [5.0, 1e-2]\n",
    "\n",
    "# Scale to these currents for each frame\n",
    "j_analyze = [1.0]"
   ]
  },
  {
   "cell_type": "markdown",
   "metadata": {},
   "source": [
    "## Velocities on an elevation slice"
   ]
  },
  {
   "cell_type": "code",
   "execution_count": null,
   "metadata": {
    "scrolled": true
   },
   "outputs": [],
   "source": [
    "mgr.clear_set()\n",
    "for vmax in v_analyze:\n",
    "    for idx in frames:\n",
    "        plot_2d(dh, mgr, const_azimuth=True, data_idx=idx, field='v_r', arrows=True, v_min=-1*vmax, v_max=vmax)\n",
    "    mgr.end_set()"
   ]
  },
  {
   "cell_type": "code",
   "execution_count": null,
   "metadata": {},
   "outputs": [],
   "source": [
    "mgr.clear_set()\n",
    "for vmax in v_analyze:\n",
    "    for idx in frames:\n",
    "        plot_2d(dh, mgr, const_azimuth=True, data_idx=idx, field='v_theta', arrows=True, v_min=-1*vmax, v_max=vmax)\n",
    "    mgr.end_set()"
   ]
  },
  {
   "cell_type": "markdown",
   "metadata": {},
   "source": [
    "## Zonal velocities at equator"
   ]
  },
  {
   "cell_type": "code",
   "execution_count": null,
   "metadata": {},
   "outputs": [],
   "source": [
    "mgr.clear_set()\n",
    "for vmax in v_analyze:\n",
    "    for idx in frames:\n",
    "        plot_2d(dh, mgr, const_elevation=True, theta=90, data_idx=idx, field='v_phi', arrows=True, v_min=-1*vmax, v_max=vmax)\n",
    "    mgr.end_set()"
   ]
  },
  {
   "cell_type": "markdown",
   "metadata": {},
   "source": [
    "# Currents"
   ]
  },
  {
   "cell_type": "markdown",
   "metadata": {},
   "source": [
    "## Currents on an elevation slice"
   ]
  },
  {
   "cell_type": "code",
   "execution_count": null,
   "metadata": {},
   "outputs": [],
   "source": [
    "mgr.clear_set()\n",
    "for jmax in j_analyze:\n",
    "    for idx in frames:\n",
    "        plot_2d(dh, mgr, const_azimuth=True, data_idx=idx, field='j_r', arrows=True, v_min=-1*jmax, v_max=jmax)\n",
    "    mgr.end_set()"
   ]
  },
  {
   "cell_type": "code",
   "execution_count": null,
   "metadata": {},
   "outputs": [],
   "source": [
    "mgr.clear_set()\n",
    "for jmax in j_analyze:\n",
    "    for idx in frames:\n",
    "        plot_2d(dh, mgr, const_azimuth=True, data_idx=idx, field='j_theta', arrows=True, v_min=-1*jmax, v_max=jmax)\n",
    "    mgr.end_set()"
   ]
  },
  {
   "cell_type": "markdown",
   "metadata": {},
   "source": [
    "## Zonal currents at equator"
   ]
  },
  {
   "cell_type": "code",
   "execution_count": null,
   "metadata": {},
   "outputs": [],
   "source": [
    "mgr.clear_set()\n",
    "for jmax in j_analyze:\n",
    "    for idx in frames:\n",
    "        plot_2d(dh, mgr, const_elevation=True, theta=45, data_idx=idx, field='j_phi', arrows=True, v_min=-1*jmax, v_max=jmax)\n",
    "    mgr.end_set()"
   ]
  },
  {
   "cell_type": "markdown",
   "metadata": {},
   "source": [
    "## Magnetic field on an elevation slice"
   ]
  },
  {
   "cell_type": "code",
   "execution_count": null,
   "metadata": {},
   "outputs": [],
   "source": [
    "mgr.clear_set()\n",
    "for bmax in b_analyze:\n",
    "    # With background field\n",
    "    for idx in frames:\n",
    "        plot_2d(dh, mgr, const_azimuth=True, data_idx=idx, field='b_r', arrows=True, v_min=-1*bmax, v_max=bmax)\n",
    "    mgr.end_set()\n",
    "    \n",
    "    # Without background field\n",
    "    for idx in frames:\n",
    "        plot_2d(dh, mgr, const_azimuth=True, data_idx=idx, field='b_r', arrows=True, bg_field=False, v_min=-1*bmax, v_max=bmax)\n",
    "    mgr.end_set()"
   ]
  },
  {
   "cell_type": "code",
   "execution_count": null,
   "metadata": {},
   "outputs": [],
   "source": [
    "mgr.clear_set()\n",
    "for bmax in b_analyze:\n",
    "    # With background field\n",
    "    for idx in frames:\n",
    "        plot_2d(dh, mgr, const_azimuth=True, data_idx=idx, field='b_theta', arrows=True, v_min=-1*bmax, v_max=bmax)\n",
    "    mgr.end_set()\n",
    "        \n",
    "    # Without background field\n",
    "    for idx in frames:\n",
    "        plot_2d(dh, mgr, const_azimuth=True, data_idx=idx, field='b_theta', arrows=True, bg_field=False, v_min=-1*bmax, v_max=bmax)\n",
    "    mgr.end_set()"
   ]
  },
  {
   "cell_type": "markdown",
   "metadata": {},
   "source": [
    "## Zonal magnetic field at equator"
   ]
  },
  {
   "cell_type": "code",
   "execution_count": null,
   "metadata": {},
   "outputs": [],
   "source": [
    "mgr.clear_set()\n",
    "for bmax in b_analyze:            \n",
    "    # Without background field\n",
    "    for idx in frames:\n",
    "        plot_2d(dh, mgr, const_elevation=True, theta=20, data_idx=idx, field='b_phi', arrows=True, bg_field=False, v_min=-1*bmax, v_max=bmax)\n",
    "    mgr.end_set()"
   ]
  },
  {
   "cell_type": "markdown",
   "metadata": {},
   "source": [
    "## Density"
   ]
  },
  {
   "cell_type": "code",
   "execution_count": null,
   "metadata": {},
   "outputs": [],
   "source": [
    "mgr.clear_set()\n",
    "for idx in frames:\n",
    "    plot_2d(dh, mgr, const_azimuth=True, log=True, data_idx=idx, field='rho')\n",
    "mgr.end_set()"
   ]
  },
  {
   "cell_type": "markdown",
   "metadata": {},
   "source": [
    "## Resistivity"
   ]
  },
  {
   "cell_type": "code",
   "execution_count": null,
   "metadata": {},
   "outputs": [],
   "source": [
    "# Eta is only dumped out once at the beginning of the code, so no need to do more than 1 plot\n",
    "mgr.clear_set()\n",
    "plot_2d(dh, mgr, const_azimuth=True, log=False, data_idx=0, field='eta_r')\n",
    "mgr.end_set()"
   ]
  },
  {
   "cell_type": "code",
   "execution_count": 13,
   "metadata": {},
   "outputs": [
    {
     "data": {
      "image/png": "[encoded data removed]",
      "text/plain": [
       "<matplotlib.figure.Figure at 0x2de9b278>"
      ]
     },
     "metadata": {
      "needs_background": "light"
     },
     "output_type": "display_data"
    }
   ],
   "source": [
    "subplot_radius_vs_eta_2d(dh, 90, 0);\n",
    "mgr.save_plt('eta_vs_rad_equator_profile')"
   ]
  },
  {
   "cell_type": "markdown",
   "metadata": {},
   "source": [
    "# Other Quantities Of Interest"
   ]
  },
  {
   "cell_type": "code",
   "execution_count": 14,
   "metadata": {},
   "outputs": [
    {
     "name": "stdout",
     "output_type": "stream",
     "text": [
      "Saved plot as v_phi_extrema_vs_t\n",
      "field argument is invalid\n",
      "Saved plot as v_r_extrema_vs_t\n",
      "Saved plot as b_r_extrema_vs_t\n",
      "Saved plot as b_theta_extrema_vs_t\n",
      "Saved plot as b_phi_extrema_vs_t\n",
      "Saved plot as j_r_extrema_vs_t\n",
      "Saved plot as j_theta_extrema_vs_t\n",
      "Saved plot as j_phi_extrema_vs_t\n"
     ]
    }
   ],
   "source": [
    "plot_extrema_over_time(dh, mgr, \"v_phi\")\n",
    "plot_extrema_over_time(dh, mgr, mgr, \"v_theta\")\n",
    "plot_extrema_over_time(dh, mgr, \"v_r\")\n",
    "plot_extrema_over_time(dh, mgr, \"b_r\")\n",
    "plot_extrema_over_time(dh, mgr, \"b_theta\")\n",
    "plot_extrema_over_time(dh, mgr, \"b_phi\")\n",
    "plot_extrema_over_time(dh[1:], mgr, \"j_r\")\n",
    "plot_extrema_over_time(dh[1:], mgr, \"j_theta\")\n",
    "plot_extrema_over_time(dh[1:], mgr, \"j_phi\")"
   ]
  },
  {
   "cell_type": "markdown",
   "metadata": {},
   "source": [
    "### Ohmic Heating Computation"
   ]
  },
  {
   "cell_type": "code",
   "execution_count": null,
   "metadata": {},
   "outputs": [],
   "source": [
    "# Constant ETA value\n",
    "try:\n",
    "    compute_ohmic_heating(dh, mgr, eta_const=user_params['ETA'])\n",
    "except:\n",
    "    print(\"Could not find user parameter \\\"ETA\\\"\")"
   ]
  },
  {
   "cell_type": "code",
   "execution_count": null,
   "metadata": {},
   "outputs": [],
   "source": [
    "# ETA vector field\n",
    "try:\n",
    "    # TODO (tyler): I hate the unit conversion below!!! It is so easy for it to break\n",
    "    eta_code_units = get_eta_code_units(eta_si_to_cgs(settings.eta))\n",
    "    # TODO (tyler): need to start using astropy.units so that units are tracked internally\n",
    "    # by all quantities...that way I don't need to worry about keeping them straight...\n",
    "    compute_ohmic_heating(dh, mgr, eta_field=eta_code_units)\n",
    "except:\n",
    "    print(\"Could not find resistivity field object \\\"eta\\\"\")"
   ]
  },
  {
   "cell_type": "markdown",
   "metadata": {},
   "source": [
    "### Ohmic Heating Dumps From PLUTO"
   ]
  },
  {
   "cell_type": "code",
   "execution_count": null,
   "metadata": {},
   "outputs": [],
   "source": [
    "plot_ohmic_heating_from_pluto(dh, mgr)"
   ]
  },
  {
   "cell_type": "markdown",
   "metadata": {},
   "source": [
    "## Radial Density Profile\n",
    "Here we will plot how the density varies with radius, when the elevation and azimuth are fixed."
   ]
  },
  {
   "cell_type": "markdown",
   "metadata": {},
   "source": [
    "### North Pole"
   ]
  },
  {
   "cell_type": "code",
   "execution_count": null,
   "metadata": {},
   "outputs": [],
   "source": [
    "subplot_radius_vs_density_2d(dh, 0, 0, log=True, first_only=True);\n",
    "save_plt('rho_vs_rad_north_pole_profile')"
   ]
  },
  {
   "cell_type": "markdown",
   "metadata": {},
   "source": [
    "### Equator"
   ]
  },
  {
   "cell_type": "code",
   "execution_count": null,
   "metadata": {},
   "outputs": [],
   "source": [
    "subplot_radius_vs_density_2d(dh, 90, 0, first_only=False);\n",
    "save_plt('rho_vs_rad_equator_profile')"
   ]
  },
  {
   "cell_type": "markdown",
   "metadata": {},
   "source": [
    "### South Pole"
   ]
  },
  {
   "cell_type": "code",
   "execution_count": null,
   "metadata": {},
   "outputs": [],
   "source": [
    "subplot_radius_vs_density_2d(dh, 180, 0, first_only=False);\n",
    "save_plt('rho_vs_rad_south_pole_profile')"
   ]
  },
  {
   "cell_type": "markdown",
   "metadata": {},
   "source": [
    "## 3D Plots"
   ]
  },
  {
   "cell_type": "markdown",
   "metadata": {},
   "source": [
    "### Constant Azimuth"
   ]
  },
  {
   "cell_type": "code",
   "execution_count": null,
   "metadata": {},
   "outputs": [],
   "source": [
    "mgr.clear_set()\n",
    "for vmax in v_analyze:\n",
    "    for idx in frames:\n",
    "        fig = plt.figure()\n",
    "        ax = fig.add_subplot(111, projection='3d')\n",
    "        pltSphData3D(dh[idx], 'v_theta', ax, size=1000, phi=40, v_min=-1*vmax, v_max=vmax)\n",
    "        pltSphData3D(dh[idx], 'v_theta', ax, size=1000, phi=79, v_min=-1*vmax, v_max=vmax)\n",
    "        mgr.save_plt('3d_const_azimuth_vtheta' + \"_vmax\" + str(np.round(vmax, 2)) + \"_f\" + str(idx) + \"_1000\", track=(idx != -1))\n",
    "        plt.close()\n",
    "    mgr.end_set()"
   ]
  },
  {
   "cell_type": "code",
   "execution_count": null,
   "metadata": {},
   "outputs": [],
   "source": [
    "mgr.clear_set()\n",
    "for bmax in b_analyze:\n",
    "    for idx in frames:\n",
    "        fig = plt.figure()\n",
    "        ax = fig.add_subplot(111, projection='3d')\n",
    "        pltSphData3D(dh[idx], 'b_theta', ax, size=1000, phi=40, v_min=-1*bmax, v_max=bmax)\n",
    "        pltSphData3D(dh[idx], 'b_theta', ax, size=1000, phi=79, v_min=-1*bmax, v_max=bmax)\n",
    "        mgr.save_plt('3d_const_azimuth_btheta' + \"_max\" + str(np.round(bmax, 2)) + \"_f\" + str(idx) + \"_1000\", track=(idx != -1))\n",
    "        plt.close()\n",
    "    mgr.end_set()"
   ]
  },
  {
   "cell_type": "code",
   "execution_count": null,
   "metadata": {},
   "outputs": [],
   "source": [
    "mgr.clear_set()\n",
    "for bmax in b_analyze:\n",
    "    for idx in frames:\n",
    "        fig = plt.figure()\n",
    "        ax = fig.add_subplot(111, projection='3d')\n",
    "        pltSphData3D(dh[idx], 'b_r', ax, size=1000, phi=40, v_min=-1*bmax, v_max=bmax)\n",
    "        pltSphData3D(dh[idx], 'b_r', ax, size=1000, phi=79, v_min=-1*bmax, v_max=bmax)\n",
    "        mgr.save_plt('3d_const_azimuth_br' + \"_max\" + str(np.round(bmax, 2)) + \"_f\" + str(idx) + \"_1000\", track=(idx != -1))\n",
    "        plt.close()\n",
    "    mgr.end_set()"
   ]
  },
  {
   "cell_type": "markdown",
   "metadata": {},
   "source": [
    "### Combined Plots"
   ]
  },
  {
   "cell_type": "code",
   "execution_count": null,
   "metadata": {},
   "outputs": [],
   "source": [
    "mgr.clear_set()\n",
    "for vmax in v_analyze:\n",
    "    for idx in frames:\n",
    "        fig = plt.figure()\n",
    "        ax = fig.add_subplot(111, projection='3d')\n",
    "        pltSphData3D(dh[idx], 'v_phi', ax, size=1000, phi=10, v_min=-1*vmax, v_max=vmax)\n",
    "        pltSphData3D(dh[idx], 'v_phi', ax, size=1000, phi=50, v_min=-1*vmax, v_max=vmax)\n",
    "        pltSphData3D(dh[idx], 'v_phi', ax, size=1000, theta=0, v_min=-1*vmax, v_max=vmax)\n",
    "        pltSphData3D(dh[idx], 'v_phi', ax, size=1000, theta=35, v_min=-1*vmax, v_max=vmax)\n",
    "        pltSphData3D(dh[idx], 'v_phi', ax, size=1000, r=1, v_min=-1*vmax, v_max=vmax)\n",
    "        mgr.save_plt('3d_azimuth_and_elevation_vphi' + \"_vmax\" + str(np.round(vmax, 2)) + \"_f\" + str(idx) + \"_1000\", track=(idx != -1))\n",
    "        plt.close()\n",
    "    mgr.end_set()"
   ]
  },
  {
   "cell_type": "code",
   "execution_count": null,
   "metadata": {},
   "outputs": [],
   "source": [
    "mgr.clear_set()\n",
    "for vmax in v_analyze:\n",
    "    for idx in frames:\n",
    "        fig = plt.figure()\n",
    "        ax = fig.add_subplot(111, projection='3d')\n",
    "        pltSphData3D(dh[idx], 'v_theta', ax, size=1000, phi=10, v_min=-1*vmax, v_max=vmax)\n",
    "        pltSphData3D(dh[idx], 'v_theta', ax, size=1000, phi=50, v_min=-1*vmax, v_max=vmax)\n",
    "        pltSphData3D(dh[idx], 'v_theta', ax, size=1000, theta=0, v_min=-1*vmax, v_max=vmax)\n",
    "        pltSphData3D(dh[idx], 'v_theta', ax, size=1000, theta=35, v_min=-1*vmax, v_max=vmax)\n",
    "        pltSphData3D(dh[idx], 'v_theta', ax, size=1000, r=1, v_min=-1*vmax, v_max=vmax)\n",
    "        mgr.save_plt('3d_azimuth_and_elevation_vtheta' + \"_vmax\" + str(np.round(vmax, 2)) + \"_f\" + str(idx) + \"_1000\", track=(idx != -1))\n",
    "        plt.close()\n",
    "    mgr.end_set()"
   ]
  },
  {
   "cell_type": "code",
   "execution_count": null,
   "metadata": {
    "scrolled": false
   },
   "outputs": [],
   "source": [
    "mgr.clear_set()\n",
    "for vmax in v_analyze:\n",
    "    for idx in frames:\n",
    "        fig = plt.figure()\n",
    "        ax = fig.add_subplot(111, projection='3d')\n",
    "        pltSphData3D(dh[idx], 'v_r', ax, size=1000, phi=10, v_min=-1*vmax, v_max=vmax)\n",
    "        pltSphData3D(dh[idx], 'v_r', ax, size=1000, phi=50, v_min=-1*vmax, v_max=vmax)\n",
    "        pltSphData3D(dh[idx], 'v_r', ax, size=1000, theta=0, v_min=-1*vmax, v_max=vmax)\n",
    "        pltSphData3D(dh[idx], 'v_r', ax, size=1000, theta=35, v_min=-1*vmax, v_max=vmax)\n",
    "        pltSphData3D(dh[idx], 'v_r', ax, size=1000, r=1, v_min=-1*vmax, v_max=vmax)\n",
    "        mgr.save_plt('3d_azimuth_and_elevation_vr' + \"_vmax\" + str(np.round(vmax, 2)) + \"_f\" + str(idx) + \"_1000\", track=(idx != -1))\n",
    "        plt.close()\n",
    "    mgr.end_set()"
   ]
  }
 ],
 "metadata": {
  "kernelspec": {
   "display_name": "Python 2",
   "language": "python",
   "name": "python2"
  },
  "language_info": {
   "codemirror_mode": {
    "name": "ipython",
    "version": 2
   },
   "file_extension": ".py",
   "mimetype": "text/x-python",
   "name": "python",
   "nbconvert_exporter": "python",
   "pygments_lexer": "ipython2",
   "version": "2.7.14"
  }
 },
 "nbformat": 4,
 "nbformat_minor": 2
}
